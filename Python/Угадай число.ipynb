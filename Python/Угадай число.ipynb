{
 "cells": [
  {
   "cell_type": "code",
   "execution_count": 1,
   "metadata": {},
   "outputs": [],
   "source": [
    "import random\n"
   ]
  },
  {
   "cell_type": "code",
   "execution_count": 5,
   "metadata": {},
   "outputs": [
    {
     "name": "stdout",
     "output_type": "stream",
     "text": [
      "Inter your number betwen 1 and 50\n",
      "Take a guess: 25\n",
      "Your guess is low\n",
      "Take a guess: 40\n",
      "Your guess is high\n",
      "Take a guess: 35\n",
      "Your guess is high\n",
      "Take a guess: 30\n",
      "Your guess is low\n",
      "Take a guess: 33\n",
      "Your guess is low\n",
      "Take a guess: 34\n",
      "Congratulations You guessed my number in 34 \n"
     ]
    }
   ],
   "source": [
    "x = random.randint(1, 50)\n",
    "y = 0\n",
    "print('Inter your number betwen 1 and 50')\n",
    "while y < 6:\n",
    "    a = int(input('Take a guess: '))\n",
    "    y+=1\n",
    "    if x > a:\n",
    "        print('Your guess is low')\n",
    "    elif x < a:\n",
    "        print('Your guess is high')\n",
    "    elif x == a:\n",
    "        print(f'Congratulations You guessed my number in {x} ')\n",
    "        break\n",
    "    if a != x and y == 6:\n",
    "        print(f\"Sorry, but you didn't make it. My number :{x} \")\n",
    "        break\n"
   ]
  },
  {
   "cell_type": "code",
   "execution_count": null,
   "metadata": {},
   "outputs": [],
   "source": []
  }
 ],
 "metadata": {
  "kernelspec": {
   "display_name": "Python 3",
   "language": "python",
   "name": "python3"
  },
  "language_info": {
   "codemirror_mode": {
    "name": "ipython",
    "version": 3
   },
   "file_extension": ".py",
   "mimetype": "text/x-python",
   "name": "python",
   "nbconvert_exporter": "python",
   "pygments_lexer": "ipython3",
   "version": "3.7.3"
  }
 },
 "nbformat": 4,
 "nbformat_minor": 2
}
