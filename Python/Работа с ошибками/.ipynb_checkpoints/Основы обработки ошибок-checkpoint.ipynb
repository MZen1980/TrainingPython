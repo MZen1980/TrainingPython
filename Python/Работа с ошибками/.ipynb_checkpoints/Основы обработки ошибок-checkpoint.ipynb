{
 "cells": [
  {
   "cell_type": "code",
   "execution_count": 12,
   "metadata": {},
   "outputs": [],
   "source": [
    "# Проверка на ошибку, наподобии Попытка Исключение\n",
    "def divide(a, b):\n",
    "    try: # Попытка\n",
    "        result = a/b\n",
    "        print(result)\n",
    "    except ZeroDivisionError as ex: # Ошибка связанная с делением на ноль\n",
    "        print(f'an error ocured: {ex}')\n",
    "    except: # Исключение\n",
    "        print('Все остальное')\n",
    "    "
   ]
  },
  {
   "cell_type": "code",
   "execution_count": 8,
   "metadata": {},
   "outputs": [
    {
     "name": "stdout",
     "output_type": "stream",
     "text": [
      "2.0\n"
     ]
    }
   ],
   "source": [
    "divide(4,2)"
   ]
  },
  {
   "cell_type": "code",
   "execution_count": 9,
   "metadata": {},
   "outputs": [
    {
     "name": "stdout",
     "output_type": "stream",
     "text": [
      "an error ocured: division by zero\n"
     ]
    }
   ],
   "source": [
    "divide(4, 0) # ошибка выводится без учета попытки"
   ]
  },
  {
   "cell_type": "code",
   "execution_count": 10,
   "metadata": {},
   "outputs": [
    {
     "name": "stdout",
     "output_type": "stream",
     "text": [
      "an error ocured: division by zero\n"
     ]
    }
   ],
   "source": [
    "divide(4, 0) # Выводим нужное нам сообщение при обнаружении ошибки"
   ]
  },
  {
   "cell_type": "code",
   "execution_count": 13,
   "metadata": {},
   "outputs": [
    {
     "name": "stdout",
     "output_type": "stream",
     "text": [
      "dj\n",
      "Все остальное\n"
     ]
    }
   ],
   "source": [
    "divider = input()\n",
    "divide(4, divider)"
   ]
  },
  {
   "cell_type": "code",
   "execution_count": 6,
   "metadata": {},
   "outputs": [
    {
     "ename": "SyntaxError",
     "evalue": "'continue' not properly in loop (<ipython-input-6-be2a8569f290>, line 10)",
     "output_type": "error",
     "traceback": [
      "\u001b[1;36m  File \u001b[1;32m\"<ipython-input-6-be2a8569f290>\"\u001b[1;36m, line \u001b[1;32m10\u001b[0m\n\u001b[1;33m    finally:                                   # Окончание - вызывается всегда\u001b[0m\n\u001b[1;37m               ^\u001b[0m\n\u001b[1;31mSyntaxError\u001b[0m\u001b[1;31m:\u001b[0m 'continue' not properly in loop\n"
     ]
    }
   ],
   "source": [
    "file = None\n",
    "try:                                       # Попытка\n",
    "    file = open(r'C\\zenkov\\imp.txt')\n",
    "    data = file.read()\n",
    "except FileNotFoundError as ex:            # Исключение\n",
    "    print(f'Error has ocured: {ex}')\n",
    "else:                                      # Если\n",
    "    print('maybe else')\n",
    "finally:                                   # Окончание - вызывается всегда \n",
    "    print('finally')\n",
    "    if file:\n",
    "        file.close()\n",
    "        \n",
    "print('doing some work here')              # если в исключении ошибка обработалась то скрипт будет работать дальше,\n",
    "                                          "
   ]
  },
  {
   "cell_type": "code",
   "execution_count": 7,
   "metadata": {},
   "outputs": [
    {
     "name": "stdout",
     "output_type": "stream",
     "text": [
      "finally\n"
     ]
    },
    {
     "ename": "FileNotFoundError",
     "evalue": "[Errno 2] No such file or directory: 'C\\\\zenkov\\\\imp.txt'",
     "output_type": "error",
     "traceback": [
      "\u001b[1;31m---------------------------------------------------------------------------\u001b[0m",
      "\u001b[1;31mFileNotFoundError\u001b[0m                         Traceback (most recent call last)",
      "\u001b[1;32m<ipython-input-7-9f52c0fe719b>\u001b[0m in \u001b[0;36m<module>\u001b[1;34m\u001b[0m\n\u001b[0;32m      2\u001b[0m \u001b[0mfile\u001b[0m \u001b[1;33m=\u001b[0m \u001b[1;32mNone\u001b[0m\u001b[1;33m\u001b[0m\u001b[1;33m\u001b[0m\u001b[0m\n\u001b[0;32m      3\u001b[0m \u001b[1;32mtry\u001b[0m\u001b[1;33m:\u001b[0m                                       \u001b[1;31m# Попытка\u001b[0m\u001b[1;33m\u001b[0m\u001b[1;33m\u001b[0m\u001b[0m\n\u001b[1;32m----> 4\u001b[1;33m    \u001b[0mfile\u001b[0m \u001b[1;33m=\u001b[0m \u001b[0mopen\u001b[0m\u001b[1;33m(\u001b[0m\u001b[1;34mr'C\\zenkov\\imp.txt'\u001b[0m\u001b[1;33m)\u001b[0m\u001b[1;33m\u001b[0m\u001b[1;33m\u001b[0m\u001b[0m\n\u001b[0m\u001b[0;32m      5\u001b[0m    \u001b[0mdata\u001b[0m \u001b[1;33m=\u001b[0m \u001b[0mfile\u001b[0m\u001b[1;33m.\u001b[0m\u001b[0mread\u001b[0m\u001b[1;33m(\u001b[0m\u001b[1;33m)\u001b[0m\u001b[1;33m\u001b[0m\u001b[1;33m\u001b[0m\u001b[0m\n\u001b[0;32m      6\u001b[0m \u001b[1;31m# except FileNotFoundError as ex:            # Исключение\u001b[0m\u001b[1;33m\u001b[0m\u001b[1;33m\u001b[0m\u001b[1;33m\u001b[0m\u001b[0m\n",
      "\u001b[1;31mFileNotFoundError\u001b[0m: [Errno 2] No such file or directory: 'C\\\\zenkov\\\\imp.txt'"
     ]
    }
   ],
   "source": [
    " # но если обработки ошибки не было то прервется\n",
    " file = None\n",
    "try:                                       # Попытка\n",
    "    file = open(r'C\\zenkov\\imp.txt')\n",
    "    data = file.read()\n",
    "# except FileNotFoundError as ex:            # Исключение\n",
    "#     print(f'Error has ocured: {ex}')\n",
    "# else:                                      # Если\n",
    "#     print('maybe else')\n",
    "finally:                                   # Окончание - вызывается всегда \n",
    "    print('finally')\n",
    "    if file:\n",
    "        file.close()\n",
    "        \n",
    "print('doing some work here')    "
   ]
  },
  {
   "cell_type": "code",
   "execution_count": 8,
   "metadata": {},
   "outputs": [
    {
     "name": "stdout",
     "output_type": "stream",
     "text": [
      "kjdhfg\n",
      "Not a number! Try again.\n",
      "er\n",
      "Not a number! Try again.\n",
      "dfg\n",
      "Not a number! Try again.\n",
      "34\n"
     ]
    }
   ],
   "source": [
    "# Попытка исключение в цикле\n",
    "def get_int():\n",
    "    while True:\n",
    "        try:\n",
    "            reply = int(input())\n",
    "            return reply\n",
    "        except:\n",
    "            print('Not a number! Try again.')\n",
    "            continue\n",
    "            \n",
    "number = get_int()"
   ]
  },
  {
   "cell_type": "code",
   "execution_count": 9,
   "metadata": {},
   "outputs": [
    {
     "data": {
      "text/plain": [
       "34"
      ]
     },
     "execution_count": 9,
     "metadata": {},
     "output_type": "execute_result"
    }
   ],
   "source": [
    "number\n"
   ]
  },
  {
   "cell_type": "code",
   "execution_count": null,
   "metadata": {},
   "outputs": [],
   "source": []
  }
 ],
 "metadata": {
  "kernelspec": {
   "display_name": "Python 3",
   "language": "python",
   "name": "python3"
  },
  "language_info": {
   "codemirror_mode": {
    "name": "ipython",
    "version": 3
   },
   "file_extension": ".py",
   "mimetype": "text/x-python",
   "name": "python",
   "nbconvert_exporter": "python",
   "pygments_lexer": "ipython3",
   "version": "3.7.3"
  }
 },
 "nbformat": 4,
 "nbformat_minor": 2
}
