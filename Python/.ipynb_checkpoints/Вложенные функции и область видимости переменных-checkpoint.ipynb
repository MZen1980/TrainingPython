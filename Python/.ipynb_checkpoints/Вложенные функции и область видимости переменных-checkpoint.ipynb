{
 "cells": [
  {
   "cell_type": "code",
   "execution_count": 1,
   "metadata": {},
   "outputs": [],
   "source": [
    "greeting = 'Hello from the global scope'  # 2\n",
    "\n",
    "def greet():\n",
    "    greeting = 'Hello from enclosing scope'\n",
    "    \n",
    "    def nested():\n",
    "        greeting = 'Hello from local scope'   # 1\n",
    "        print(greeting)\n",
    "    \n",
    "    nested()"
   ]
  },
  {
   "cell_type": "code",
   "execution_count": 2,
   "metadata": {},
   "outputs": [
    {
     "name": "stdout",
     "output_type": "stream",
     "text": [
      "Hello from local scope\n",
      "Hello from the global scope\n"
     ]
    }
   ],
   "source": [
    "greet()\n",
    "print(greeting)"
   ]
  },
  {
   "cell_type": "code",
   "execution_count": 3,
   "metadata": {},
   "outputs": [],
   "source": [
    "greeting = 'Hello from the global scope'  \n",
    "\n",
    "def greet(greeting):\n",
    "    \n",
    "    print(f'Greet in func:{greeting}')\n",
    "    \n",
    "    greeting = 'Hello from enclosing scope'\n",
    "    \n",
    "    print(f'Greet in func:{greeting}')\n",
    "    \n",
    "    def nested():\n",
    "        greeting = 'Hello from local scope'   \n",
    "        print(greeting)\n",
    "    \n",
    "    nested()"
   ]
  },
  {
   "cell_type": "code",
   "execution_count": 4,
   "metadata": {},
   "outputs": [
    {
     "name": "stdout",
     "output_type": "stream",
     "text": [
      "Greet in func:test\n",
      "Greet in func:Hello from enclosing scope\n",
      "Hello from local scope\n",
      "Hello from the global scope\n"
     ]
    }
   ],
   "source": [
    "greet('test')\n",
    "print(greeting)"
   ]
  },
  {
   "cell_type": "code",
   "execution_count": 6,
   "metadata": {},
   "outputs": [],
   "source": [
    "# Но что бы в итоге изменять переменную находящиюся за функциями то обратимся к методу \"global\":\n",
    "\n",
    "greeting = 'Hello from the global scope'  \n",
    "\n",
    "def greet():\n",
    "    global greeting\n",
    "    \n",
    "    print(f'Greet in func:{greeting}')\n",
    "    \n",
    "    greeting = 'Hello from enclosing scope'\n",
    "    \n",
    "    print(f'Greet in func:{greeting}')\n",
    "    \n",
    "    def nested():\n",
    "        greeting = 'Hello from local scope'   \n",
    "        print(greeting)\n",
    "    \n",
    "    nested()"
   ]
  },
  {
   "cell_type": "code",
   "execution_count": 7,
   "metadata": {},
   "outputs": [
    {
     "name": "stdout",
     "output_type": "stream",
     "text": [
      "Greet in func:Hello from the global scope\n",
      "Greet in func:Hello from enclosing scope\n",
      "Hello from local scope\n",
      "Hello from enclosing scope\n"
     ]
    }
   ],
   "source": [
    "greet()\n",
    "print(greeting)"
   ]
  },
  {
   "cell_type": "code",
   "execution_count": 8,
   "metadata": {},
   "outputs": [],
   "source": [
    "# Но что бы в итоге изменять переменную то:\n",
    "\n",
    "greeting = 'Hello from the global scope'  \n",
    "\n",
    "def greet(greeting):\n",
    "    \n",
    "    print(f'Greet in func:{greeting}')\n",
    "    \n",
    "    greeting = 'Hello from enclosing scope'\n",
    "    \n",
    "    print(f'Greet in func:{greeting}')\n",
    "    \n",
    "    def nested():\n",
    "        greeting = 'Hello from local scope'   \n",
    "        print(greeting)\n",
    "    \n",
    "    nested()\n",
    "    return 'bla-bla-bla'"
   ]
  },
  {
   "cell_type": "code",
   "execution_count": 11,
   "metadata": {},
   "outputs": [
    {
     "name": "stdout",
     "output_type": "stream",
     "text": [
      "Greet in func:Hello from the global scope\n",
      "Greet in func:Hello from enclosing scope\n",
      "Hello from local scope\n",
      "bla-bla-bla\n"
     ]
    }
   ],
   "source": [
    "greeting = greet(greeting)\n",
    "print(greeting)"
   ]
  },
  {
   "cell_type": "code",
   "execution_count": null,
   "metadata": {},
   "outputs": [],
   "source": []
  }
 ],
 "metadata": {
  "kernelspec": {
   "display_name": "Python 3",
   "language": "python",
   "name": "python3"
  },
  "language_info": {
   "codemirror_mode": {
    "name": "ipython",
    "version": 3
   },
   "file_extension": ".py",
   "mimetype": "text/x-python",
   "name": "python",
   "nbconvert_exporter": "python",
   "pygments_lexer": "ipython3",
   "version": "3.7.3"
  }
 },
 "nbformat": 4,
 "nbformat_minor": 2
}
