{
 "cells": [
  {
   "cell_type": "code",
   "execution_count": 2,
   "metadata": {},
   "outputs": [
    {
     "data": {
      "text/plain": [
       "1"
      ]
     },
     "execution_count": 2,
     "metadata": {},
     "output_type": "execute_result"
    }
   ],
   "source": [
    "#функция возвращает математический модуль, если была -1 то вернет 1, всегда положительное\n",
    "\n",
    "abs(-1)"
   ]
  },
  {
   "cell_type": "code",
   "execution_count": 3,
   "metadata": {},
   "outputs": [
    {
     "data": {
      "text/plain": [
       "1"
      ]
     },
     "execution_count": 3,
     "metadata": {},
     "output_type": "execute_result"
    }
   ],
   "source": [
    "abs(1)"
   ]
  },
  {
   "cell_type": "code",
   "execution_count": 4,
   "metadata": {},
   "outputs": [
    {
     "data": {
      "text/plain": [
       "6"
      ]
     },
     "execution_count": 4,
     "metadata": {},
     "output_type": "execute_result"
    }
   ],
   "source": [
    "# возвращает максимальное число, как из строки так и из списка\n",
    "\n",
    "max([1,2,3,4,5,6])"
   ]
  },
  {
   "cell_type": "code",
   "execution_count": 5,
   "metadata": {},
   "outputs": [
    {
     "data": {
      "text/plain": [
       "1"
      ]
     },
     "execution_count": 5,
     "metadata": {},
     "output_type": "execute_result"
    }
   ],
   "source": [
    "# возвращает минимальное число, как из строки так и из списка\n",
    "\n",
    "min(1,2,3,4,5,6,7)"
   ]
  },
  {
   "cell_type": "code",
   "execution_count": 6,
   "metadata": {},
   "outputs": [
    {
     "data": {
      "text/plain": [
       "256"
      ]
     },
     "execution_count": 6,
     "metadata": {},
     "output_type": "execute_result"
    }
   ],
   "source": [
    "#возведение в степень\n",
    "\n",
    "pow(2, 8)"
   ]
  },
  {
   "cell_type": "code",
   "execution_count": 10,
   "metadata": {},
   "outputs": [
    {
     "data": {
      "text/plain": [
       "3.1"
      ]
     },
     "execution_count": 10,
     "metadata": {},
     "output_type": "execute_result"
    }
   ],
   "source": [
    "# округление\n",
    "\n",
    "round(3.1234354763, 1)"
   ]
  },
  {
   "cell_type": "code",
   "execution_count": 11,
   "metadata": {},
   "outputs": [
    {
     "data": {
      "text/plain": [
       "21"
      ]
     },
     "execution_count": 11,
     "metadata": {},
     "output_type": "execute_result"
    }
   ],
   "source": [
    "# суммирование чисел в списке\n",
    "\n",
    "sum([1,2,3,4,5,6])"
   ]
  },
  {
   "cell_type": "code",
   "execution_count": 13,
   "metadata": {},
   "outputs": [
    {
     "name": "stdout",
     "output_type": "stream",
     "text": [
      "0x2a\n",
      "0o52\n",
      "0b101010\n"
     ]
    }
   ],
   "source": [
    "h = hex(42) # преобразование в 16 ти ричную систему\n",
    "o = oct(42) # преобразование в 8 ми ричную систему\n",
    "b = bin(42) # преобразование в бинарную систему\n",
    "\n",
    "print(h)\n",
    "print(o)\n",
    "print(b)"
   ]
  },
  {
   "cell_type": "code",
   "execution_count": 14,
   "metadata": {},
   "outputs": [],
   "source": [
    " ######################################################################\n",
    "    # Итерируемые объекты "
   ]
  },
  {
   "cell_type": "code",
   "execution_count": 15,
   "metadata": {},
   "outputs": [
    {
     "name": "stdout",
     "output_type": "stream",
     "text": [
      "True\n",
      "False\n"
     ]
    }
   ],
   "source": [
    "all_true1 = all([True, True, True])  # выводит значения в Истина только если все равны Истина\n",
    "all_true2 = all([True, False, True])\n",
    "\n",
    "print(all_true1)\n",
    "print(all_true2)"
   ]
  },
  {
   "cell_type": "code",
   "execution_count": 19,
   "metadata": {},
   "outputs": [
    {
     "name": "stdout",
     "output_type": "stream",
     "text": [
      "True\n",
      "False\n",
      "False\n"
     ]
    }
   ],
   "source": [
    "# Пример использования, надо узнать все ли данные соответствуют условию\n",
    "\n",
    "player = [('Carlsen', 2842), ('Caruana', 2822), \n",
    "         ('Mamediarov', 2801), ('Ding', 2797),\n",
    "         ('Giri', 2780)]\n",
    "\n",
    "rating_players = all(rating > 2700 for _,rating in player)\n",
    "print(rating_players)\n",
    "\n",
    "rating_players2 = all(rating > 2800 for _, rating in player)\n",
    "print(rating_players2)\n",
    "\n",
    "rating_players3 = all([rating > 2800 for _,rating in player])\n",
    "print(rating_players3)"
   ]
  },
  {
   "cell_type": "code",
   "execution_count": 21,
   "metadata": {},
   "outputs": [
    {
     "name": "stdout",
     "output_type": "stream",
     "text": [
      "False\n",
      "True\n"
     ]
    }
   ],
   "source": [
    "# выводит Истина если хоть одно значение равно ИСТИНА\n",
    "any_true1 = any([False, False, False,])\n",
    "any_true2 = any([False, False, True])\n",
    "\n",
    "print(any_true1)\n",
    "print(any_true2)"
   ]
  },
  {
   "cell_type": "code",
   "execution_count": 23,
   "metadata": {},
   "outputs": [
    {
     "name": "stdout",
     "output_type": "stream",
     "text": [
      "True\n",
      "True\n",
      "False\n"
     ]
    }
   ],
   "source": [
    "player = [('Carlsen', 2842), ('Caruana', 2822), \n",
    "         ('Mamediarov', 2801), ('Ding', 2797),\n",
    "         ('Giri', 2780)]\n",
    "\n",
    "rating_players = any(rating > 2700 for _,rating in player)\n",
    "print(rating_players)\n",
    "\n",
    "rating_players2 = any(rating > 2800 for _, rating in player)\n",
    "print(rating_players2)\n",
    "\n",
    "rating_players3 = any([rating > 2900 for _,rating in player])\n",
    "print(rating_players3)"
   ]
  },
  {
   "cell_type": "code",
   "execution_count": 24,
   "metadata": {},
   "outputs": [
    {
     "name": "stdout",
     "output_type": "stream",
     "text": [
      "<class 'zip'>\n",
      "<zip object at 0x0000012AE1925248>\n",
      "[('a', 10), ('b', 20), ('c', 30)]\n"
     ]
    }
   ],
   "source": [
    "# Ленивое склеивание\n",
    "# склеиваются два объекта\n",
    "\n",
    "letters = 'abcd'\n",
    "numbers = (10, 20, 30)\n",
    "\n",
    "zipped = zip(letters, numbers)\n",
    "print(type(zipped))\n",
    "print(zipped)\n",
    "\n",
    "zipped_list = list(zipped)\n",
    "print(zipped_list)"
   ]
  },
  {
   "cell_type": "code",
   "execution_count": 25,
   "metadata": {},
   "outputs": [
    {
     "data": {
      "text/plain": [
       "{'Carlsen': 2842,\n",
       " 'Caruana': 2822,\n",
       " 'Mamediarov': 2801,\n",
       " 'Ding': 2797,\n",
       " 'Giri': 2780}"
      ]
     },
     "execution_count": 25,
     "metadata": {},
     "output_type": "execute_result"
    }
   ],
   "source": [
    "names = ['Carlsen', 'Caruana', 'Mamediarov', 'Ding', 'Giri']\n",
    "ratings = [2842, 2822, 2801, 2797, 2780]\n",
    "\n",
    "players = dict(zip(names, ratings))\n",
    "players\n"
   ]
  },
  {
   "cell_type": "code",
   "execution_count": 26,
   "metadata": {},
   "outputs": [
    {
     "name": "stdout",
     "output_type": "stream",
     "text": [
      "Hello\n"
     ]
    },
    {
     "data": {
      "text/plain": [
       "'Hello'"
      ]
     },
     "execution_count": 26,
     "metadata": {},
     "output_type": "execute_result"
    }
   ],
   "source": [
    "# присваивание значения пользователем \n",
    "\n",
    "a= input()\n",
    "a"
   ]
  },
  {
   "cell_type": "code",
   "execution_count": 27,
   "metadata": {},
   "outputs": [
    {
     "name": "stdout",
     "output_type": "stream",
     "text": [
      "1 2 3 4 5 6 \n"
     ]
    },
    {
     "data": {
      "text/plain": [
       "['1', '2', '3', '4', '5', '6']"
      ]
     },
     "execution_count": 27,
     "metadata": {},
     "output_type": "execute_result"
    }
   ],
   "source": [
    "a= input().split() # \n",
    "a"
   ]
  },
  {
   "cell_type": "code",
   "execution_count": 29,
   "metadata": {},
   "outputs": [
    {
     "data": {
      "text/plain": [
       "97"
      ]
     },
     "execution_count": 29,
     "metadata": {},
     "output_type": "execute_result"
    }
   ],
   "source": [
    "# Узнать код символа\n",
    "code = ord('a')\n",
    "code"
   ]
  },
  {
   "cell_type": "code",
   "execution_count": 30,
   "metadata": {},
   "outputs": [
    {
     "data": {
      "text/plain": [
       "'a'"
      ]
     },
     "execution_count": 30,
     "metadata": {},
     "output_type": "execute_result"
    }
   ],
   "source": [
    "# Узнать символ по коду\n",
    "\n",
    "c = chr(code)\n",
    "c"
   ]
  },
  {
   "cell_type": "code",
   "execution_count": null,
   "metadata": {},
   "outputs": [],
   "source": []
  }
 ],
 "metadata": {
  "kernelspec": {
   "display_name": "Python 3",
   "language": "python",
   "name": "python3"
  },
  "language_info": {
   "codemirror_mode": {
    "name": "ipython",
    "version": 3
   },
   "file_extension": ".py",
   "mimetype": "text/x-python",
   "name": "python",
   "nbconvert_exporter": "python",
   "pygments_lexer": "ipython3",
   "version": "3.7.3"
  }
 },
 "nbformat": 4,
 "nbformat_minor": 2
}
