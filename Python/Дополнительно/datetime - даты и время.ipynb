{
 "cells": [
  {
   "cell_type": "code",
   "execution_count": 1,
   "metadata": {},
   "outputs": [],
   "source": [
    "# Импортируем библиотеки работающие с датой\n",
    "\n",
    "from datetime import datetime\n",
    "from datetime import date\n",
    "from datetime import time\n",
    "from datetime import timedelta"
   ]
  },
  {
   "cell_type": "code",
   "execution_count": 2,
   "metadata": {},
   "outputs": [
    {
     "name": "stdout",
     "output_type": "stream",
     "text": [
      "2019-11-03\n",
      "2019\n",
      "11\n",
      "3\n"
     ]
    }
   ],
   "source": [
    "d1 = date(2019, 11, 3)\n",
    "print(d1)\n",
    "print(d1.year)\n",
    "print(d1.month)\n",
    "print(d1.day)\n"
   ]
  },
  {
   "cell_type": "code",
   "execution_count": 3,
   "metadata": {},
   "outputs": [
    {
     "name": "stdout",
     "output_type": "stream",
     "text": [
      "23:10:59\n",
      "23\n",
      "10\n",
      "59\n"
     ]
    }
   ],
   "source": [
    "t1 = time(23, 10, 59)\n",
    "print(t1)\n",
    "print(t1.hour)\n",
    "print(t1.minute)\n",
    "print(t1.second)"
   ]
  },
  {
   "cell_type": "code",
   "execution_count": 4,
   "metadata": {},
   "outputs": [
    {
     "name": "stdout",
     "output_type": "stream",
     "text": [
      "2019-11-03\n"
     ]
    }
   ],
   "source": [
    "print(date.today()) # ТекущаяДата()"
   ]
  },
  {
   "cell_type": "code",
   "execution_count": 5,
   "metadata": {},
   "outputs": [
    {
     "name": "stdout",
     "output_type": "stream",
     "text": [
      "9999-12-31\n",
      "0001-01-01\n",
      "23:59:59.999999\n",
      "00:00:00\n"
     ]
    }
   ],
   "source": [
    "print(date.max)\n",
    "print(date.min)\n",
    "print(time.max)\n",
    "print(time.min)"
   ]
  },
  {
   "cell_type": "code",
   "execution_count": 6,
   "metadata": {},
   "outputs": [],
   "source": [
    "dt = datetime(2019, 3, 12, 15, 17, 10)"
   ]
  },
  {
   "cell_type": "code",
   "execution_count": 7,
   "metadata": {},
   "outputs": [
    {
     "name": "stdout",
     "output_type": "stream",
     "text": [
      "2019-03-12 15:17:10\n"
     ]
    }
   ],
   "source": [
    "print(dt)"
   ]
  },
  {
   "cell_type": "code",
   "execution_count": 8,
   "metadata": {},
   "outputs": [
    {
     "name": "stdout",
     "output_type": "stream",
     "text": [
      "2019\n",
      "15\n"
     ]
    }
   ],
   "source": [
    "print(dt.date().year)\n",
    "print(dt.time().hour)"
   ]
  },
  {
   "cell_type": "code",
   "execution_count": 10,
   "metadata": {},
   "outputs": [
    {
     "name": "stdout",
     "output_type": "stream",
     "text": [
      "9999-12-31 23:59:59.999999\n",
      "0001-01-01 00:00:00\n"
     ]
    }
   ],
   "source": [
    "print(datetime.max)\n",
    "print(datetime.min)"
   ]
  },
  {
   "cell_type": "code",
   "execution_count": 12,
   "metadata": {},
   "outputs": [
    {
     "name": "stdout",
     "output_type": "stream",
     "text": [
      "2019-11-03 18:33:17.581304\n"
     ]
    }
   ],
   "source": [
    "print(datetime.now())   # ТекущееВремя()"
   ]
  },
  {
   "cell_type": "code",
   "execution_count": 13,
   "metadata": {},
   "outputs": [
    {
     "name": "stdout",
     "output_type": "stream",
     "text": [
      "2019\n",
      "11\n"
     ]
    }
   ],
   "source": [
    "print(datetime.now().year)\n",
    "print(datetime.now().month)"
   ]
  },
  {
   "cell_type": "code",
   "execution_count": 16,
   "metadata": {},
   "outputs": [
    {
     "name": "stdout",
     "output_type": "stream",
     "text": [
      "2018-11-03 18:36:25.480216\n"
     ]
    }
   ],
   "source": [
    "now = datetime.now()\n",
    "new_dt = now.replace(year = 2018)\n",
    "print(new_dt)"
   ]
  },
  {
   "cell_type": "code",
   "execution_count": 19,
   "metadata": {},
   "outputs": [
    {
     "name": "stdout",
     "output_type": "stream",
     "text": [
      "2018-08-30 00:00:00\n",
      "2018-08-29 10:40:00\n",
      "2018-06-08 09:20:00\n",
      "2018-06-28 00:00:00\n"
     ]
    }
   ],
   "source": [
    "# преобразование строки в дату\n",
    "\n",
    "# /d - день месяца в виде числа, /m - порядковый номер месяца /Y - год в виде 4-х чисел /y - год в виде 2-х чисел\n",
    "dt = datetime.strptime(\"30/08/2018\", \"%d/%m/%Y\") \n",
    "print(dt)\n",
    "\n",
    "dt = datetime.strptime(\"29/08/2018 10:40\", \"%d/%m/%Y %H:%M\") \n",
    "print(dt)\n",
    "\n",
    "dt = datetime.strptime(\"06-08-2018 09:20\", \"%m-%d-%Y %H:%M\") \n",
    "print(dt)\n",
    "\n",
    "dt = datetime.strptime(\"2018-06-28\", \"%Y-%m-%d\") \n",
    "print(dt)"
   ]
  },
  {
   "cell_type": "code",
   "execution_count": 20,
   "metadata": {},
   "outputs": [
    {
     "data": {
      "text/plain": [
       "'Russian_Russia.1251'"
      ]
     },
     "execution_count": 20,
     "metadata": {},
     "output_type": "execute_result"
    }
   ],
   "source": [
    "#  передача даты пользователю\n",
    "\n",
    "import locale\n",
    "locale.setlocale(locale.LC_ALL, \"\")"
   ]
  },
  {
   "cell_type": "code",
   "execution_count": 29,
   "metadata": {},
   "outputs": [
    {
     "name": "stdout",
     "output_type": "stream",
     "text": [
      "2019-11-03 (Вс)\n",
      "2019 Ноябрь 03 число (воскресенье)\n"
     ]
    }
   ],
   "source": [
    "now = datetime.now()\n",
    "print(now.strftime('%Y-%m-%d (%a)')) # отправим на консоль\n",
    "print(now.strftime('%Y %B %d число (%A)'))\n"
   ]
  },
  {
   "cell_type": "code",
   "execution_count": 30,
   "metadata": {},
   "outputs": [
    {
     "name": "stdout",
     "output_type": "stream",
     "text": [
      "3 days, 2:10:00\n"
     ]
    }
   ],
   "source": [
    "# Разница между датами\n",
    "\n",
    "delta1 = timedelta(days=3, hours=2, minutes=10)\n",
    "print(delta1)"
   ]
  },
  {
   "cell_type": "code",
   "execution_count": 31,
   "metadata": {},
   "outputs": [
    {
     "name": "stdout",
     "output_type": "stream",
     "text": [
      "2 days, 1:05:00\n"
     ]
    }
   ],
   "source": [
    "delta2 = timedelta(days=2, hours=1, minutes=5)\n",
    "print(delta2)"
   ]
  },
  {
   "cell_type": "code",
   "execution_count": 32,
   "metadata": {},
   "outputs": [
    {
     "name": "stdout",
     "output_type": "stream",
     "text": [
      "1 day, 1:05:00\n",
      "-2 days, 22:55:00\n"
     ]
    }
   ],
   "source": [
    "print(delta1 - delta2)\n",
    "print(delta2 - delta1)"
   ]
  },
  {
   "cell_type": "code",
   "execution_count": 33,
   "metadata": {},
   "outputs": [
    {
     "name": "stdout",
     "output_type": "stream",
     "text": [
      "<class 'datetime.timedelta'>\n",
      "39\n"
     ]
    }
   ],
   "source": [
    "my_birthday = date(1980, 10, 26)\n",
    "\n",
    "delta = date.today() - my_birthday\n",
    "print(type(delta))\n",
    "\n",
    "my_age = int(delta.days / 365)\n",
    "print(my_age)"
   ]
  },
  {
   "cell_type": "code",
   "execution_count": 34,
   "metadata": {},
   "outputs": [
    {
     "name": "stdout",
     "output_type": "stream",
     "text": [
      "True\n"
     ]
    }
   ],
   "source": [
    "# сравнение дат\n",
    "\n",
    "wife_birthday = date(1990, 9, 6)\n",
    "\n",
    "am_i_older = my_birthday < wife_birthday\n",
    "print(am_i_older)"
   ]
  },
  {
   "cell_type": "code",
   "execution_count": null,
   "metadata": {},
   "outputs": [],
   "source": []
  }
 ],
 "metadata": {
  "kernelspec": {
   "display_name": "Python 3",
   "language": "python",
   "name": "python3"
  },
  "language_info": {
   "codemirror_mode": {
    "name": "ipython",
    "version": 3
   },
   "file_extension": ".py",
   "mimetype": "text/x-python",
   "name": "python",
   "nbconvert_exporter": "python",
   "pygments_lexer": "ipython3",
   "version": "3.7.3"
  }
 },
 "nbformat": 4,
 "nbformat_minor": 2
}
