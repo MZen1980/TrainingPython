{
 "cells": [
  {
   "cell_type": "markdown",
   "metadata": {},
   "source": [
    "Следует различать понятия объекта-итератора и итерируемого объекта. Итератор это объект который используется для итерации\n",
    "по итерируемому объекту, используя __next__() dunder - метод\n",
    "\n",
    "Справедливо следующее утверждение: любой объект-итератор итерируем, но не любой итерируемый объект является \n",
    "объектом - итератором. Например list итерируем, но само по себе итератором не является. Что бы получить итератор из\n",
    "итерируемого объекта, надо воспользоваться мотодом iter(), который, собственно и возвращает объект-итератор.\n",
    "\n"
   ]
  },
  {
   "cell_type": "code",
   "execution_count": 2,
   "metadata": {},
   "outputs": [
    {
     "name": "stdout",
     "output_type": "stream",
     "text": [
      "<class 'list_iterator'>\n",
      "1\n",
      "2\n",
      "3\n"
     ]
    }
   ],
   "source": [
    "iterable = [1, 2, 3]\n",
    "\n",
    "iterator = iter(iterable) # будет вызван метод __iter__()\n",
    "print(type(iterator))\n",
    "\n",
    "print(next(iterator)) # будет вызван метод __next__()\n",
    "\n",
    "print(next(iterator)) \n",
    "print(next(iterator)) # так как в списке 3 символа то и вызвали 3 раза"
   ]
  },
  {
   "cell_type": "code",
   "execution_count": 3,
   "metadata": {},
   "outputs": [],
   "source": [
    "import itertools as it"
   ]
  },
  {
   "cell_type": "code",
   "execution_count": 4,
   "metadata": {},
   "outputs": [
    {
     "name": "stdout",
     "output_type": "stream",
     "text": [
      "[0, 2, 4, 6, 8]\n"
     ]
    }
   ],
   "source": [
    "# выведем четные числа\n",
    "\n",
    "even_numbers = [x for x in range(10) if x % 2 == 0]\n",
    "print(even_numbers)"
   ]
  },
  {
   "cell_type": "code",
   "execution_count": 5,
   "metadata": {},
   "outputs": [
    {
     "data": {
      "text/plain": [
       "count(0, 2)"
      ]
     },
     "execution_count": 5,
     "metadata": {},
     "output_type": "execute_result"
    }
   ],
   "source": [
    "# та же задача но через it - itertools\n",
    "even_numbers = it.count(0, 2)\n",
    "even_numbers"
   ]
  },
  {
   "cell_type": "code",
   "execution_count": 6,
   "metadata": {},
   "outputs": [
    {
     "data": {
      "text/plain": [
       "[0, 2, 4, 6, 8]"
      ]
     },
     "execution_count": 6,
     "metadata": {},
     "output_type": "execute_result"
    }
   ],
   "source": [
    "# for x in even_numbers:    -- так делать не льзя будет бесконечный цикл\n",
    "#     print(x)\n",
    "\n",
    "# делам правильно по питоньему\n",
    "list(next(even_numbers) for _ in range(5))"
   ]
  },
  {
   "cell_type": "code",
   "execution_count": null,
   "metadata": {},
   "outputs": [],
   "source": []
  }
 ],
 "metadata": {
  "kernelspec": {
   "display_name": "Python 3",
   "language": "python",
   "name": "python3"
  },
  "language_info": {
   "codemirror_mode": {
    "name": "ipython",
    "version": 3
   },
   "file_extension": ".py",
   "mimetype": "text/x-python",
   "name": "python",
   "nbconvert_exporter": "python",
   "pygments_lexer": "ipython3",
   "version": "3.7.3"
  }
 },
 "nbformat": 4,
 "nbformat_minor": 2
}
