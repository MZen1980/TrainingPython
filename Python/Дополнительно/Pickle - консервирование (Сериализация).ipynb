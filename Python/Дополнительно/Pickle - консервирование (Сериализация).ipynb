{
 "cells": [
  {
   "cell_type": "code",
   "execution_count": 11,
   "metadata": {},
   "outputs": [],
   "source": [
    "class Character():\n",
    "    \n",
    "    def __init__(self, race, armor, damage = 10):\n",
    "        self.race = race\n",
    "        self.damage = damage\n",
    "        self.armor = armor\n",
    "        self.health = 100\n",
    "        \n",
    "    def hit(self, damage):\n",
    "        self.health -=damage\n",
    "        \n",
    "    def is_dead(self):\n",
    "        return self.health == 0\n",
    "    \n",
    "#     def __getstate__(self): # управляет одним значением\n",
    "    \n",
    "    def __setstate__(self, state): # управляет всем сетом \n",
    "        self.race = state.get('race', 'Elf')\n",
    "        self.damage = state.get('damage', 10)\n",
    "        self.armor = state.get('armor', 20)\n",
    "        self.health = state.get('healf', 100)"
   ]
  },
  {
   "cell_type": "code",
   "execution_count": 6,
   "metadata": {},
   "outputs": [
    {
     "data": {
      "text/plain": [
       "90"
      ]
     },
     "execution_count": 6,
     "metadata": {},
     "output_type": "execute_result"
    }
   ],
   "source": [
    "c = Character('Elf')\n",
    "c.hit(10)\n",
    "c.health"
   ]
  },
  {
   "cell_type": "code",
   "execution_count": 7,
   "metadata": {},
   "outputs": [],
   "source": [
    "# сохраним данные в файл\n",
    "\n",
    "import pickle\n",
    "\n",
    "with open(r'C:\\Users\\Михаил и Натусик\\Обучение Python\\Дополнительно\\game_state.bin', 'w+b') as f:\n",
    "    pickle.dump(c, f) # передадим объект \"с\" в файл \"f\"    "
   ]
  },
  {
   "cell_type": "code",
   "execution_count": 8,
   "metadata": {},
   "outputs": [
    {
     "name": "stdout",
     "output_type": "stream",
     "text": [
      "None\n"
     ]
    }
   ],
   "source": [
    "# обнулим объект \"с\"\n",
    "\n",
    "c = None\n",
    "print(c)\n"
   ]
  },
  {
   "cell_type": "code",
   "execution_count": 12,
   "metadata": {},
   "outputs": [
    {
     "name": "stdout",
     "output_type": "stream",
     "text": [
      "100\n"
     ]
    }
   ],
   "source": [
    "# прочитаем объект \"с\" в файле\n",
    "with open(r'C:\\Users\\Михаил и Натусик\\Обучение Python\\Дополнительно\\game_state.bin', 'rb') as f:\n",
    "    c = pickle.load(f)\n",
    "    \n",
    "print(c.health)"
   ]
  },
  {
   "cell_type": "code",
   "execution_count": 13,
   "metadata": {},
   "outputs": [
    {
     "name": "stdout",
     "output_type": "stream",
     "text": [
      "{'race': 'Elf', 'damage': 10, 'armor': 20, 'health': 100}\n"
     ]
    }
   ],
   "source": [
    "# посмотрим состояние объекта \"с\"\n",
    "\n",
    "print(c.__dict__)"
   ]
  },
  {
   "cell_type": "code",
   "execution_count": null,
   "metadata": {},
   "outputs": [],
   "source": []
  }
 ],
 "metadata": {
  "kernelspec": {
   "display_name": "Python 3",
   "language": "python",
   "name": "python3"
  },
  "language_info": {
   "codemirror_mode": {
    "name": "ipython",
    "version": 3
   },
   "file_extension": ".py",
   "mimetype": "text/x-python",
   "name": "python",
   "nbconvert_exporter": "python",
   "pygments_lexer": "ipython3",
   "version": "3.7.3"
  }
 },
 "nbformat": 4,
 "nbformat_minor": 2
}
