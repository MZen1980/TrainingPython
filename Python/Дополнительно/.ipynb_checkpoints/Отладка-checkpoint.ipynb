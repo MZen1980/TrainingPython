{
 "cells": [
  {
   "cell_type": "code",
   "execution_count": 1,
   "metadata": {},
   "outputs": [],
   "source": [
    "import pdb # импортируем библиотеку точек останова\n"
   ]
  },
  {
   "cell_type": "code",
   "execution_count": 2,
   "metadata": {},
   "outputs": [
    {
     "name": "stdout",
     "output_type": "stream",
     "text": [
      "--Return--\n",
      "> <ipython-input-2-221057fe91a3>(4)<module>()->None\n",
      "-> pdb.set_trace()\n",
      "(Pdb) x\n",
      "1\n",
      "(Pdb) y\n",
      "2\n",
      "(Pdb) z\n",
      "*** NameError: name 'z' is not defined\n",
      "(Pdb) c\n",
      "--Return--\n",
      "> <ipython-input-2-221057fe91a3>(9)<module>()->None\n",
      "-> pdb.set_trace()\n",
      "(Pdb) z\n",
      "3\n",
      "(Pdb) x\n",
      "2\n",
      "(Pdb) c\n",
      "finish\n"
     ]
    }
   ],
   "source": [
    "x = 1\n",
    "y = 2\n",
    "\n",
    "pdb.set_trace() # устанавливаем точку останова\n",
    "\n",
    "z = 3\n",
    "x+=1\n",
    "\n",
    "pdb.set_trace()\n",
    "\n",
    "print('finish')"
   ]
  },
  {
   "cell_type": "code",
   "execution_count": null,
   "metadata": {},
   "outputs": [],
   "source": []
  }
 ],
 "metadata": {
  "kernelspec": {
   "display_name": "Python 3",
   "language": "python",
   "name": "python3"
  },
  "language_info": {
   "codemirror_mode": {
    "name": "ipython",
    "version": 3
   },
   "file_extension": ".py",
   "mimetype": "text/x-python",
   "name": "python",
   "nbconvert_exporter": "python",
   "pygments_lexer": "ipython3",
   "version": "3.7.3"
  }
 },
 "nbformat": 4,
 "nbformat_minor": 2
}
