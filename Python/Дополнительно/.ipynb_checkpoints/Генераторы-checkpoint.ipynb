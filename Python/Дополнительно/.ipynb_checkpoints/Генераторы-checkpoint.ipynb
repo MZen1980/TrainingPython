{
 "cells": [
  {
   "cell_type": "code",
   "execution_count": 1,
   "metadata": {},
   "outputs": [],
   "source": [
    "# поработаем с генератором случайных чисел"
   ]
  },
  {
   "cell_type": "code",
   "execution_count": 2,
   "metadata": {},
   "outputs": [],
   "source": [
    "import random"
   ]
  },
  {
   "cell_type": "code",
   "execution_count": 3,
   "metadata": {},
   "outputs": [],
   "source": [
    "def randoms(min, max, n):\n",
    "    return [random.randint(min, max) for _ in range(n)]  # когда будет вызов то в памяти сразу \n",
    "                                                         # же появятся значения, память будет занята"
   ]
  },
  {
   "cell_type": "code",
   "execution_count": 4,
   "metadata": {},
   "outputs": [
    {
     "name": "stdout",
     "output_type": "stream",
     "text": [
      "11\n",
      "11\n",
      "24\n",
      "29\n",
      "11\n"
     ]
    }
   ],
   "source": [
    "for r in randoms(10, 30, 5):\n",
    "    print(r)     "
   ]
  },
  {
   "cell_type": "code",
   "execution_count": 5,
   "metadata": {},
   "outputs": [],
   "source": [
    "# перепишем функцию и будем использовать ГЕНЕРАТОРЫ"
   ]
  },
  {
   "cell_type": "code",
   "execution_count": 6,
   "metadata": {},
   "outputs": [],
   "source": [
    "def randoms(min, max, n):\n",
    "    for i in range(n):\n",
    "        yield random.randint(min, max) # теперь вычисления в памяти будут появляться не сразу а по мере вычисления"
   ]
  },
  {
   "cell_type": "code",
   "execution_count": 7,
   "metadata": {},
   "outputs": [
    {
     "name": "stdout",
     "output_type": "stream",
     "text": [
      "22\n",
      "24\n",
      "12\n",
      "20\n",
      "23\n"
     ]
    }
   ],
   "source": [
    "for r in randoms(10, 30, 5):\n",
    "    print(r)"
   ]
  },
  {
   "cell_type": "code",
   "execution_count": 8,
   "metadata": {},
   "outputs": [
    {
     "data": {
      "text/plain": [
       "<generator object randoms at 0x000001ED80DDF480>"
      ]
     },
     "execution_count": 8,
     "metadata": {},
     "output_type": "execute_result"
    }
   ],
   "source": [
    "rand_sequence = randoms(1, 10,10)\n",
    "rand_sequence"
   ]
  },
  {
   "cell_type": "code",
   "execution_count": 9,
   "metadata": {},
   "outputs": [],
   "source": [
    "# по генератору можно пройти только один раз"
   ]
  },
  {
   "cell_type": "code",
   "execution_count": 10,
   "metadata": {},
   "outputs": [
    {
     "name": "stdout",
     "output_type": "stream",
     "text": [
      "3\n",
      "7\n",
      "3\n",
      "8\n",
      "10\n",
      "4\n",
      "1\n",
      "4\n",
      "7\n",
      "7\n"
     ]
    }
   ],
   "source": [
    "for r in rand_sequence:\n",
    "    print(r)"
   ]
  },
  {
   "cell_type": "code",
   "execution_count": 11,
   "metadata": {},
   "outputs": [],
   "source": [
    "for r in rand_sequence:\n",
    "    print(r) # упс больше не отрабатывает"
   ]
  },
  {
   "cell_type": "code",
   "execution_count": 12,
   "metadata": {},
   "outputs": [],
   "source": [
    "# в таком случае значения генератора помещают в list"
   ]
  },
  {
   "cell_type": "code",
   "execution_count": 13,
   "metadata": {},
   "outputs": [
    {
     "data": {
      "text/plain": [
       "[2, 2, 9, 5, 6]"
      ]
     },
     "execution_count": 13,
     "metadata": {},
     "output_type": "execute_result"
    }
   ],
   "source": [
    "seq = list(randoms(1, 10, 5))\n",
    "seq"
   ]
  },
  {
   "cell_type": "code",
   "execution_count": 14,
   "metadata": {},
   "outputs": [
    {
     "data": {
      "text/plain": [
       "[2, 2, 9, 5, 6]"
      ]
     },
     "execution_count": 14,
     "metadata": {},
     "output_type": "execute_result"
    }
   ],
   "source": [
    "seq # как видим по значеям в листе можно проходить не ограниченное количество раз"
   ]
  },
  {
   "cell_type": "code",
   "execution_count": 15,
   "metadata": {},
   "outputs": [],
   "source": [
    "def randoms(min, max, n):\n",
    "    for i in range(n):\n",
    "        yield random.randint(min, max)"
   ]
  },
  {
   "cell_type": "code",
   "execution_count": 16,
   "metadata": {},
   "outputs": [
    {
     "name": "stdout",
     "output_type": "stream",
     "text": [
      "[10, 7, 7, 5, 8]\n",
      "2\n",
      "7\n",
      "8\n",
      "9\n",
      "8\n"
     ]
    }
   ],
   "source": [
    "import itertools\n",
    "\n",
    "rand_sequence = randoms(1, 10, 10) # что бы не выводить 10 раз используем модуль itertools.islice\n",
    "five_taken = list(itertools.islice(rand_sequence, 5))\n",
    "print(five_taken)\n",
    "for r in rand_sequence:\n",
    "    print(r)"
   ]
  },
  {
   "cell_type": "code",
   "execution_count": 17,
   "metadata": {},
   "outputs": [],
   "source": [
    "# def randoms(min, max, n) - упростим функцию убрав n и переписав логику"
   ]
  },
  {
   "cell_type": "code",
   "execution_count": 18,
   "metadata": {},
   "outputs": [],
   "source": [
    "def randoms(min, max):\n",
    "    while True:\n",
    "        yield random.randint(min, max)"
   ]
  },
  {
   "cell_type": "code",
   "execution_count": 19,
   "metadata": {},
   "outputs": [],
   "source": [
    "rand_sequence = randoms(1, 10000000) # вычисления пока еще не начаты т.к. вернется только генератор"
   ]
  },
  {
   "cell_type": "code",
   "execution_count": 21,
   "metadata": {},
   "outputs": [
    {
     "name": "stdout",
     "output_type": "stream",
     "text": [
      "[7779121, 239296, 6286751, 7753249, 7256651]\n"
     ]
    }
   ],
   "source": [
    "five_taken = list(itertools.islice(rand_sequence, 5)) # укажем сколько значений нам вернуть\n",
    "print(five_taken)"
   ]
  },
  {
   "cell_type": "code",
   "execution_count": 22,
   "metadata": {},
   "outputs": [],
   "source": [
    "# В случае если придется читать большой файл и хватило памяти\n",
    "# то лучше читать его построчно"
   ]
  },
  {
   "cell_type": "code",
   "execution_count": 26,
   "metadata": {},
   "outputs": [],
   "source": [
    "def read_line_by_line(file):\n",
    "    \"\"\"Lazy function (generator) to read a file line by line.\"\"\"\n",
    "    while True:\n",
    "        line = file.readline() # Считывает из файла одну строку и возвращает её.\n",
    "        if not line:\n",
    "            break\n",
    "        yield line\n",
    "        "
   ]
  },
  {
   "cell_type": "code",
   "execution_count": 29,
   "metadata": {},
   "outputs": [
    {
     "name": "stdout",
     "output_type": "stream",
     "text": [
      "Bob синяк\n",
      "Джон бегает\n",
      "Джордж прыгает\n",
      "Софья спит\n"
     ]
    }
   ],
   "source": [
    "file = open(f'C:\\\\Users\\\\Михаил и Натусик\\\\Google Диск\\\\Python\\\\Дополнительно\\\\Тест для генераторов.txt')\n",
    "for line in read_line_by_line(file):\n",
    "    print(line.rstrip())"
   ]
  },
  {
   "cell_type": "code",
   "execution_count": 30,
   "metadata": {},
   "outputs": [
    {
     "name": "stdout",
     "output_type": "stream",
     "text": [
      "7\n",
      "2\n",
      "9\n"
     ]
    }
   ],
   "source": [
    "# еще пример использования насильного вывода одного сгенерированного числа\n",
    "rand_seq = randoms(1, 10)\n",
    "n = next(rand_seq)\n",
    "print(n)\n",
    "n = next(rand_seq)\n",
    "print(n)\n",
    "n = next(rand_seq)\n",
    "print(n)"
   ]
  },
  {
   "cell_type": "code",
   "execution_count": 31,
   "metadata": {},
   "outputs": [
    {
     "data": {
      "text/plain": [
       "[1, 4, 9, 16]"
      ]
     },
     "execution_count": 31,
     "metadata": {},
     "output_type": "execute_result"
    }
   ],
   "source": [
    "# так же советуют не использовать создавать сразу объекты в памяти а использовать генераторы\n",
    "\n",
    "# Не правильно\n",
    "my_list = [1,2,3,4]\n",
    "squares = [x**2 for x in my_list]\n",
    "squares\n"
   ]
  },
  {
   "cell_type": "code",
   "execution_count": 32,
   "metadata": {},
   "outputs": [
    {
     "data": {
      "text/plain": [
       "<generator object <genexpr> at 0x000001ED80DDF570>"
      ]
     },
     "execution_count": 32,
     "metadata": {},
     "output_type": "execute_result"
    }
   ],
   "source": [
    "# Правильно\n",
    "squares = (x**2 for x in my_list)\n",
    "squares"
   ]
  },
  {
   "cell_type": "code",
   "execution_count": 33,
   "metadata": {},
   "outputs": [
    {
     "name": "stdout",
     "output_type": "stream",
     "text": [
      "1\n",
      "4\n",
      "9\n",
      "16\n"
     ]
    }
   ],
   "source": [
    "for i in squares:\n",
    "    print(i)"
   ]
  },
  {
   "cell_type": "code",
   "execution_count": null,
   "metadata": {},
   "outputs": [],
   "source": []
  }
 ],
 "metadata": {
  "kernelspec": {
   "display_name": "Python 3",
   "language": "python",
   "name": "python3"
  },
  "language_info": {
   "codemirror_mode": {
    "name": "ipython",
    "version": 3
   },
   "file_extension": ".py",
   "mimetype": "text/x-python",
   "name": "python",
   "nbconvert_exporter": "python",
   "pygments_lexer": "ipython3",
   "version": "3.7.3"
  }
 },
 "nbformat": 4,
 "nbformat_minor": 2
}
