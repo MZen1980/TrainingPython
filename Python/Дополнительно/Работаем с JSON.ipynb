{
 "cells": [
  {
   "cell_type": "code",
   "execution_count": 1,
   "metadata": {},
   "outputs": [],
   "source": [
    "import json\n"
   ]
  },
  {
   "cell_type": "code",
   "execution_count": 2,
   "metadata": {},
   "outputs": [],
   "source": [
    "class Tournament:\n",
    "    def __init__(self, name, year):\n",
    "        self.name = name\n",
    "        self.year = year"
   ]
  },
  {
   "cell_type": "code",
   "execution_count": 3,
   "metadata": {},
   "outputs": [
    {
     "name": "stdout",
     "output_type": "stream",
     "text": [
      "{\n",
      "  \"Aeroflot Open\": 2010,\n",
      "  \"FIDE World Cup\": 2018,\n",
      "  \"FIDE Grand Prix\": 2016\n",
      "}\n",
      "<class 'dict'>\n",
      "{'Aeroflot Open': 2010, 'FIDE World Cup': 2018, 'FIDE Grand Prix': 2016}\n"
     ]
    }
   ],
   "source": [
    "tournamets = {\n",
    "    \"Aeroflot Open\":2010,\n",
    "    \"FIDE World Cup\":2018,\n",
    "    \"FIDE Grand Prix\": 2016\n",
    "    \n",
    "}\n",
    "# dumps -возвращает строчку в виде json\n",
    "# dump - складыает строчку (dumps) в какой то файл\n",
    "\n",
    "# serialization\n",
    "json_data = json.dumps(tournamets, indent = 2) # indent - управляет отступами в json - \n",
    "print(json_data)\n",
    "\n",
    "# deserialization\n",
    "loaded = json.loads(json_data) # выгрузка из json обратно в объект python\n",
    "print(type(loaded))\n",
    "print(loaded)"
   ]
  },
  {
   "cell_type": "code",
   "execution_count": 4,
   "metadata": {},
   "outputs": [],
   "source": [
    "# объекты сериализуемые в json\n",
    "    Python           |    JSON\n",
    "    dict             |    object\n",
    "    list, tuple      |    array\n",
    "    str              |    string\n",
    "    int, long, float |    number\n",
    "    True / False     |    true / false\n",
    "    None             |    null"
   ]
  },
  {
   "cell_type": "code",
   "execution_count": 5,
   "metadata": {},
   "outputs": [
    {
     "ename": "TypeError",
     "evalue": "Object of type Tournament is not JSON serializable",
     "output_type": "error",
     "traceback": [
      "\u001b[1;31m---------------------------------------------------------------------------\u001b[0m",
      "\u001b[1;31mTypeError\u001b[0m                                 Traceback (most recent call last)",
      "\u001b[1;32m<ipython-input-5-f14eb8c29c21>\u001b[0m in \u001b[0;36m<module>\u001b[1;34m\u001b[0m\n\u001b[0;32m      1\u001b[0m \u001b[0mt1\u001b[0m \u001b[1;33m=\u001b[0m \u001b[0mTournament\u001b[0m\u001b[1;33m(\u001b[0m\u001b[1;34m'Aeroflot Open'\u001b[0m\u001b[1;33m,\u001b[0m \u001b[1;36m2010\u001b[0m\u001b[1;33m)\u001b[0m\u001b[1;33m\u001b[0m\u001b[1;33m\u001b[0m\u001b[0m\n\u001b[1;32m----> 2\u001b[1;33m \u001b[0mjson_data\u001b[0m \u001b[1;33m=\u001b[0m \u001b[0mjson\u001b[0m\u001b[1;33m.\u001b[0m\u001b[0mdumps\u001b[0m\u001b[1;33m(\u001b[0m\u001b[0mt1\u001b[0m\u001b[1;33m)\u001b[0m\u001b[1;33m\u001b[0m\u001b[1;33m\u001b[0m\u001b[0m\n\u001b[0m\u001b[0;32m      3\u001b[0m \u001b[0mprint\u001b[0m\u001b[1;33m(\u001b[0m\u001b[0mjson_data\u001b[0m\u001b[1;33m)\u001b[0m\u001b[1;33m\u001b[0m\u001b[1;33m\u001b[0m\u001b[0m\n",
      "\u001b[1;32mC:\\Anaconda\\lib\\json\\__init__.py\u001b[0m in \u001b[0;36mdumps\u001b[1;34m(obj, skipkeys, ensure_ascii, check_circular, allow_nan, cls, indent, separators, default, sort_keys, **kw)\u001b[0m\n\u001b[0;32m    229\u001b[0m         \u001b[0mcls\u001b[0m \u001b[1;32mis\u001b[0m \u001b[1;32mNone\u001b[0m \u001b[1;32mand\u001b[0m \u001b[0mindent\u001b[0m \u001b[1;32mis\u001b[0m \u001b[1;32mNone\u001b[0m \u001b[1;32mand\u001b[0m \u001b[0mseparators\u001b[0m \u001b[1;32mis\u001b[0m \u001b[1;32mNone\u001b[0m \u001b[1;32mand\u001b[0m\u001b[1;33m\u001b[0m\u001b[1;33m\u001b[0m\u001b[0m\n\u001b[0;32m    230\u001b[0m         default is None and not sort_keys and not kw):\n\u001b[1;32m--> 231\u001b[1;33m         \u001b[1;32mreturn\u001b[0m \u001b[0m_default_encoder\u001b[0m\u001b[1;33m.\u001b[0m\u001b[0mencode\u001b[0m\u001b[1;33m(\u001b[0m\u001b[0mobj\u001b[0m\u001b[1;33m)\u001b[0m\u001b[1;33m\u001b[0m\u001b[1;33m\u001b[0m\u001b[0m\n\u001b[0m\u001b[0;32m    232\u001b[0m     \u001b[1;32mif\u001b[0m \u001b[0mcls\u001b[0m \u001b[1;32mis\u001b[0m \u001b[1;32mNone\u001b[0m\u001b[1;33m:\u001b[0m\u001b[1;33m\u001b[0m\u001b[1;33m\u001b[0m\u001b[0m\n\u001b[0;32m    233\u001b[0m         \u001b[0mcls\u001b[0m \u001b[1;33m=\u001b[0m \u001b[0mJSONEncoder\u001b[0m\u001b[1;33m\u001b[0m\u001b[1;33m\u001b[0m\u001b[0m\n",
      "\u001b[1;32mC:\\Anaconda\\lib\\json\\encoder.py\u001b[0m in \u001b[0;36mencode\u001b[1;34m(self, o)\u001b[0m\n\u001b[0;32m    197\u001b[0m         \u001b[1;31m# exceptions aren't as detailed.  The list call should be roughly\u001b[0m\u001b[1;33m\u001b[0m\u001b[1;33m\u001b[0m\u001b[1;33m\u001b[0m\u001b[0m\n\u001b[0;32m    198\u001b[0m         \u001b[1;31m# equivalent to the PySequence_Fast that ''.join() would do.\u001b[0m\u001b[1;33m\u001b[0m\u001b[1;33m\u001b[0m\u001b[1;33m\u001b[0m\u001b[0m\n\u001b[1;32m--> 199\u001b[1;33m         \u001b[0mchunks\u001b[0m \u001b[1;33m=\u001b[0m \u001b[0mself\u001b[0m\u001b[1;33m.\u001b[0m\u001b[0miterencode\u001b[0m\u001b[1;33m(\u001b[0m\u001b[0mo\u001b[0m\u001b[1;33m,\u001b[0m \u001b[0m_one_shot\u001b[0m\u001b[1;33m=\u001b[0m\u001b[1;32mTrue\u001b[0m\u001b[1;33m)\u001b[0m\u001b[1;33m\u001b[0m\u001b[1;33m\u001b[0m\u001b[0m\n\u001b[0m\u001b[0;32m    200\u001b[0m         \u001b[1;32mif\u001b[0m \u001b[1;32mnot\u001b[0m \u001b[0misinstance\u001b[0m\u001b[1;33m(\u001b[0m\u001b[0mchunks\u001b[0m\u001b[1;33m,\u001b[0m \u001b[1;33m(\u001b[0m\u001b[0mlist\u001b[0m\u001b[1;33m,\u001b[0m \u001b[0mtuple\u001b[0m\u001b[1;33m)\u001b[0m\u001b[1;33m)\u001b[0m\u001b[1;33m:\u001b[0m\u001b[1;33m\u001b[0m\u001b[1;33m\u001b[0m\u001b[0m\n\u001b[0;32m    201\u001b[0m             \u001b[0mchunks\u001b[0m \u001b[1;33m=\u001b[0m \u001b[0mlist\u001b[0m\u001b[1;33m(\u001b[0m\u001b[0mchunks\u001b[0m\u001b[1;33m)\u001b[0m\u001b[1;33m\u001b[0m\u001b[1;33m\u001b[0m\u001b[0m\n",
      "\u001b[1;32mC:\\Anaconda\\lib\\json\\encoder.py\u001b[0m in \u001b[0;36miterencode\u001b[1;34m(self, o, _one_shot)\u001b[0m\n\u001b[0;32m    255\u001b[0m                 \u001b[0mself\u001b[0m\u001b[1;33m.\u001b[0m\u001b[0mkey_separator\u001b[0m\u001b[1;33m,\u001b[0m \u001b[0mself\u001b[0m\u001b[1;33m.\u001b[0m\u001b[0mitem_separator\u001b[0m\u001b[1;33m,\u001b[0m \u001b[0mself\u001b[0m\u001b[1;33m.\u001b[0m\u001b[0msort_keys\u001b[0m\u001b[1;33m,\u001b[0m\u001b[1;33m\u001b[0m\u001b[1;33m\u001b[0m\u001b[0m\n\u001b[0;32m    256\u001b[0m                 self.skipkeys, _one_shot)\n\u001b[1;32m--> 257\u001b[1;33m         \u001b[1;32mreturn\u001b[0m \u001b[0m_iterencode\u001b[0m\u001b[1;33m(\u001b[0m\u001b[0mo\u001b[0m\u001b[1;33m,\u001b[0m \u001b[1;36m0\u001b[0m\u001b[1;33m)\u001b[0m\u001b[1;33m\u001b[0m\u001b[1;33m\u001b[0m\u001b[0m\n\u001b[0m\u001b[0;32m    258\u001b[0m \u001b[1;33m\u001b[0m\u001b[0m\n\u001b[0;32m    259\u001b[0m def _make_iterencode(markers, _default, _encoder, _indent, _floatstr,\n",
      "\u001b[1;32mC:\\Anaconda\\lib\\json\\encoder.py\u001b[0m in \u001b[0;36mdefault\u001b[1;34m(self, o)\u001b[0m\n\u001b[0;32m    177\u001b[0m \u001b[1;33m\u001b[0m\u001b[0m\n\u001b[0;32m    178\u001b[0m         \"\"\"\n\u001b[1;32m--> 179\u001b[1;33m         raise TypeError(f'Object of type {o.__class__.__name__} '\n\u001b[0m\u001b[0;32m    180\u001b[0m                         f'is not JSON serializable')\n\u001b[0;32m    181\u001b[0m \u001b[1;33m\u001b[0m\u001b[0m\n",
      "\u001b[1;31mTypeError\u001b[0m: Object of type Tournament is not JSON serializable"
     ]
    }
   ],
   "source": [
    "t1 = Tournament('Aeroflot Open', 2010)\n",
    "json_data = json.dumps(t1)\n",
    "print(json_data)               # json не может преобразовывать объекты для этого используют функцию __dict__"
   ]
  },
  {
   "cell_type": "code",
   "execution_count": 6,
   "metadata": {},
   "outputs": [
    {
     "name": "stdout",
     "output_type": "stream",
     "text": [
      "{\"name\": \"Aeroflot Open\", \"year\": 2010}\n",
      "name = Aeroflot Open, year = 2010\n"
     ]
    }
   ],
   "source": [
    "# __dict__ - возвращает атрибуты и их значения \n",
    "# json не может преобразовывать объекты для этого используют функцию __dict__\n",
    "\n",
    "json_data = json.dumps(t1.__dict__)\n",
    "print(json_data)\n",
    "t = Tournament(**json.loads(json_data)) # ** - вернем все объекты\n",
    "print(f'name = {t.name}, year = {t.year}')"
   ]
  },
  {
   "cell_type": "code",
   "execution_count": 7,
   "metadata": {},
   "outputs": [],
   "source": [
    "class ChessPlayer:\n",
    "    \n",
    "    def __init__(self, tournamets):\n",
    "        self.tournamets = tournamets\n",
    "    "
   ]
  },
  {
   "cell_type": "code",
   "execution_count": 8,
   "metadata": {},
   "outputs": [],
   "source": [
    "t1 = Tournament(\"Aeroflot Open\", 2010)\n",
    "t2 = Tournament(\"FIDE World Cup\", 2018)\n",
    "t3 = Tournament(\"FIDE Grand Prix\", 2016)\n",
    "\n",
    "p1 = ChessPlayer([t1, t2, t3])"
   ]
  },
  {
   "cell_type": "code",
   "execution_count": 9,
   "metadata": {},
   "outputs": [
    {
     "name": "stdout",
     "output_type": "stream",
     "text": [
      "{\"tournamets\": [{\"name\": \"Aeroflot Open\", \"year\": 2010}, {\"name\": \"FIDE World Cup\", \"year\": 2018}, {\"name\": \"FIDE Grand Prix\", \"year\": 2016}]}\n"
     ]
    }
   ],
   "source": [
    "# так как помещаются не сериализованные объекты Tournament то будем сериализовать каждый (t1, t2 and t3)\n",
    "json_data = json.dumps(p1, default = lambda obj: obj.__dict__)\n",
    "print(json_data)"
   ]
  },
  {
   "cell_type": "code",
   "execution_count": 11,
   "metadata": {},
   "outputs": [
    {
     "name": "stdout",
     "output_type": "stream",
     "text": [
      "[{'name': 'Aeroflot Open', 'year': 2010}, {'name': 'FIDE World Cup', 'year': 2018}, {'name': 'FIDE Grand Prix', 'year': 2016}]\n",
      "<__main__.ChessPlayer object at 0x000002175C385BE0>\n"
     ]
    }
   ],
   "source": [
    "# читаем назад\n",
    "decoder_player = ChessPlayer(**json.loads(json_data))\n",
    "print(decoder_player.tournamets)\n",
    "print(decoder_player)"
   ]
  },
  {
   "cell_type": "code",
   "execution_count": 14,
   "metadata": {},
   "outputs": [
    {
     "name": "stdout",
     "output_type": "stream",
     "text": [
      "<class 'dict'>\n",
      "name = Aeroflot Open, year = 2010\n",
      "{'name': 'Aeroflot Open', 'year': 2010}\n"
     ]
    }
   ],
   "source": [
    "# __1__\n",
    "\n",
    "# проблема при возврате назад в том что не восоздает объект\n",
    "player_tournament = decoder_player.tournamets[0]\n",
    "print(type(player_tournament))\n",
    "print(f'name = {t1.name}, year = {t1.year}')\n",
    "print(player_tournament)"
   ]
  },
  {
   "cell_type": "code",
   "execution_count": 17,
   "metadata": {},
   "outputs": [
    {
     "name": "stdout",
     "output_type": "stream",
     "text": [
      "<class 'str'>\n",
      "{\n",
      "    \"tournamets\": [\n",
      "        {\n",
      "            \"name\": \"Aeroflot Open\",\n",
      "            \"year\": 2010\n",
      "        },\n",
      "        {\n",
      "            \"name\": \"FIDE World Cup\",\n",
      "            \"year\": 2018\n",
      "        },\n",
      "        {\n",
      "            \"name\": \"FIDE Grand Prix\",\n",
      "            \"year\": 2016\n",
      "        }\n",
      "    ]\n",
      "}\n",
      "<__main__.ChessPlayer object at 0x000002175C74AE48>\n",
      "[<__main__.Tournament object at 0x000002175C74ADD8>, <__main__.Tournament object at 0x000002175C74AEB8>, <__main__.Tournament object at 0x000002175C74AD68>]\n",
      "name = Aeroflot Open, year = 2010\n",
      "name = FIDE World Cup, year = 2018\n",
      "name = FIDE Grand Prix, year = 2016\n"
     ]
    }
   ],
   "source": [
    "# __2__\n",
    "class Tournament:\n",
    "    def __init__(self, name, year):\n",
    "        self.name = name\n",
    "        self.year = year\n",
    "    \n",
    "    #  ___ если правильно понял то @classmethod вызывается перед __init__\n",
    "    \n",
    "    @classmethod # применяем декоратор @classmethod  \n",
    "    def from_json(cls, json_data):  # пишем функцию которая парсит json и возоздает объект типа Tournament\n",
    "        return cls(**json_data)\n",
    "        \n",
    "class ChessPlayer:\n",
    "    \n",
    "    def __init__(self, tournamets):\n",
    "        self.tournamets = tournamets\n",
    "    \n",
    "    @classmethod\n",
    "    def from_json(cls, json_data):   # пишем обработку входящего json\n",
    "        tournamets = list(map(Tournament.from_json, json_data[\"tournamets\"]))\n",
    "        return cls(tournamets)\n",
    "\n",
    "# заново заполняем переменные\n",
    "t1 = Tournament(\"Aeroflot Open\", 2010)\n",
    "t2 = Tournament(\"FIDE World Cup\", 2018)\n",
    "t3 = Tournament(\"FIDE Grand Prix\", 2016)\n",
    "\n",
    "p1 = ChessPlayer([t1, t2, t3])\n",
    "\n",
    "# так как помещаются не сериализованные объекты Tournament то будем сериализовать каждый (t1, t2 and t3)\n",
    "# через default = lambda obj: obj.__dict__\n",
    "# indent - отступ\n",
    "# sort_keys - сортировка ключей\n",
    "json_data = json.dumps(p1, default = lambda obj: obj.__dict__, indent = 4, sort_keys = True)\n",
    "print(type(json_data))    \n",
    "print(json_data)\n",
    "\n",
    "# делаем декодировку\n",
    "decoded_player = ChessPlayer.from_json(json.loads(json_data))\n",
    "print(decoded_player)\n",
    "print(decoded_player.tournamets)\n",
    "for i in decoded_player.tournamets:\n",
    "    print(f'name = {i.name}, year = {i.year}')"
   ]
  },
  {
   "cell_type": "code",
   "execution_count": 18,
   "metadata": {},
   "outputs": [
    {
     "name": "stdout",
     "output_type": "stream",
     "text": [
      "{'tournamets': [{'name': 'Aeroflot Open', 'year': 2010}, {'name': 'FIDE World Cup', 'year': 2018}, {'name': 'FIDE Grand Prix', 'year': 2016}]}\n"
     ]
    }
   ],
   "source": [
    "# запишем json в файл и прочитаем его\n",
    "with open('player.json', 'w') as file:\n",
    "    json.dump(p1, file, default = lambda obj: obj.__dict__)\n",
    "    \n",
    "with open('player.json', 'r') as read_file:\n",
    "    data = json.load(read_file)\n",
    "    \n",
    "print(data)"
   ]
  },
  {
   "cell_type": "code",
   "execution_count": 19,
   "metadata": {},
   "outputs": [
    {
     "name": "stdout",
     "output_type": "stream",
     "text": [
      "<__main__.ChessPlayer object at 0x000002175C81D978>\n",
      "[<__main__.Tournament object at 0x000002175C81D748>, <__main__.Tournament object at 0x000002175C81D6D8>, <__main__.Tournament object at 0x000002175C81D710>]\n",
      "name = Aeroflot Open, year = 2010\n",
      "name = FIDE World Cup, year = 2018\n",
      "name = FIDE Grand Prix, year = 2016\n"
     ]
    }
   ],
   "source": [
    "decoded_player = ChessPlayer.from_json(data)\n",
    "print(decoded_player)\n",
    "print(decoded_player.tournamets)\n",
    "for i in decoded_player.tournamets:\n",
    "    print(f'name = {i.name}, year = {i.year}')"
   ]
  },
  {
   "cell_type": "code",
   "execution_count": null,
   "metadata": {},
   "outputs": [],
   "source": []
  }
 ],
 "metadata": {
  "kernelspec": {
   "display_name": "Python 3",
   "language": "python",
   "name": "python3"
  },
  "language_info": {
   "codemirror_mode": {
    "name": "ipython",
    "version": 3
   },
   "file_extension": ".py",
   "mimetype": "text/x-python",
   "name": "python",
   "nbconvert_exporter": "python",
   "pygments_lexer": "ipython3",
   "version": "3.7.3"
  }
 },
 "nbformat": 4,
 "nbformat_minor": 2
}
