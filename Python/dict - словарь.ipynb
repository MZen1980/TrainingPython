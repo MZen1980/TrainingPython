{
 "cells": [
  {
   "cell_type": "code",
   "execution_count": 1,
   "metadata": {},
   "outputs": [
    {
     "data": {
      "text/plain": [
       "{'Carlsen': 2442,\n",
       " 'Garuana': 2822,\n",
       " 'Mamedyarov': 2801,\n",
       " 'Ding': 2797,\n",
       " 'Giri': 2780}"
      ]
     },
     "execution_count": 1,
     "metadata": {},
     "output_type": "execute_result"
    }
   ],
   "source": [
    "# Зададим словарь\n",
    "players = {\n",
    "    'Carlsen': 8442,\n",
    "         'Garuana': 2822,\n",
    "         'Mamedyarov': 2801,\n",
    "         'Ding': 2797,\n",
    "         'Giri': 2780\n",
    "            }\n",
    "players = dict(Carlsen=2442, Garuana=2822, Mamedyarov=2801, Ding=2797, Giri=2780)\n",
    "players\n"
   ]
  },
  {
   "cell_type": "code",
   "execution_count": 2,
   "metadata": {},
   "outputs": [
    {
     "name": "stdout",
     "output_type": "stream",
     "text": [
      "Top chess player's rating is 2442\n"
     ]
    }
   ],
   "source": [
    "top1 = players['Carlsen'] # вывод значения словаря по ключу\n",
    "print(f\"Top chess player's rating is {top1}\")"
   ]
  },
  {
   "cell_type": "code",
   "execution_count": 3,
   "metadata": {},
   "outputs": [
    {
     "data": {
      "text/plain": [
       "2442"
      ]
     },
     "execution_count": 3,
     "metadata": {},
     "output_type": "execute_result"
    }
   ],
   "source": [
    "players.get('Carlsen') # вывод значения словаря по ключу"
   ]
  },
  {
   "cell_type": "code",
   "execution_count": 4,
   "metadata": {},
   "outputs": [],
   "source": [
    "players['So']=2780 # Добавить новый ключ и значение"
   ]
  },
  {
   "cell_type": "code",
   "execution_count": 5,
   "metadata": {},
   "outputs": [
    {
     "data": {
      "text/plain": [
       "{'Carlsen': 2442,\n",
       " 'Garuana': 2822,\n",
       " 'Mamedyarov': 2801,\n",
       " 'Ding': 2797,\n",
       " 'Giri': 2780,\n",
       " 'So': 2780}"
      ]
     },
     "execution_count": 5,
     "metadata": {},
     "output_type": "execute_result"
    }
   ],
   "source": [
    "players"
   ]
  },
  {
   "cell_type": "code",
   "execution_count": 6,
   "metadata": {},
   "outputs": [
    {
     "data": {
      "text/plain": [
       "{'Carlsen': 2442,\n",
       " 'Garuana': 2822,\n",
       " 'Mamedyarov': 2801,\n",
       " 'Ding': 2797,\n",
       " 'Giri': 2780}"
      ]
     },
     "execution_count": 6,
     "metadata": {},
     "output_type": "execute_result"
    }
   ],
   "source": [
    "del players['So'] # удалить ключ и значение\n",
    "players"
   ]
  },
  {
   "cell_type": "code",
   "execution_count": 7,
   "metadata": {},
   "outputs": [
    {
     "name": "stdout",
     "output_type": "stream",
     "text": [
      "<class 'dict_keys'>\n",
      "dict_keys(['Carlsen', 'Garuana', 'Mamedyarov', 'Ding', 'Giri'])\n"
     ]
    }
   ],
   "source": [
    "keys = players.keys() \n",
    "print(type(keys)) # вывод класса\n",
    "print(keys)# вывод ключей"
   ]
  },
  {
   "cell_type": "code",
   "execution_count": 8,
   "metadata": {},
   "outputs": [
    {
     "name": "stdout",
     "output_type": "stream",
     "text": [
      "<class 'list'>\n"
     ]
    },
    {
     "data": {
      "text/plain": [
       "['Carlsen', 'Garuana', 'Mamedyarov', 'Ding', 'Giri']"
      ]
     },
     "execution_count": 8,
     "metadata": {},
     "output_type": "execute_result"
    }
   ],
   "source": [
    "l = list(players.keys()) # вывод списком\n",
    "print(type(l))\n",
    "l"
   ]
  },
  {
   "cell_type": "code",
   "execution_count": 9,
   "metadata": {},
   "outputs": [
    {
     "name": "stdout",
     "output_type": "stream",
     "text": [
      "Carlsen, Garuana, Mamedyarov, Ding, Giri, <class 'str'>, <class 'str'>, <class 'str'>, <class 'str'>, <class 'str'>, "
     ]
    }
   ],
   "source": [
    "for key in players:   # вывод строкой через запятую\n",
    "    print(key, end=', ')\n",
    "for key in players:    \n",
    "    print(type(key), end=', ')"
   ]
  },
  {
   "cell_type": "code",
   "execution_count": 19,
   "metadata": {},
   "outputs": [
    {
     "data": {
      "text/plain": [
       "[('Carlsen', 2442),\n",
       " ('Garuana', 2822),\n",
       " ('Karjakin', None),\n",
       " ('Mamedyarov', 2801)]"
      ]
     },
     "execution_count": 19,
     "metadata": {},
     "output_type": "execute_result"
    }
   ],
   "source": [
    "sorted(players.items()) # sort"
   ]
  },
  {
   "cell_type": "code",
   "execution_count": 11,
   "metadata": {},
   "outputs": [
    {
     "name": "stdout",
     "output_type": "stream",
     "text": [
      "True\n",
      "True\n"
     ]
    }
   ],
   "source": [
    "print('Carlsen' in players) # проверка наличия ключей \n",
    "print('Kramnik' not in players)"
   ]
  },
  {
   "cell_type": "code",
   "execution_count": 12,
   "metadata": {},
   "outputs": [
    {
     "name": "stdout",
     "output_type": "stream",
     "text": [
      "<class 'dict_values'>\n",
      "[2442, 2822, 2801, 2797, 2780]\n",
      "<class 'list'>\n",
      "[2442, 2780, 2797, 2801, 2822]\n"
     ]
    }
   ],
   "source": [
    "#вывод значений\n",
    "vals = players.values()\n",
    "print(type(vals))\n",
    "print(list(vals))\n",
    "print(type(list(vals)))\n",
    "print(sorted(vals))"
   ]
  },
  {
   "cell_type": "code",
   "execution_count": 13,
   "metadata": {},
   "outputs": [
    {
     "name": "stdout",
     "output_type": "stream",
     "text": [
      "<class 'dict'>\n",
      "{'Carlsen': 2442, 'Garuana': 2822, 'Mamedyarov': 2801, 'Ding': 2797, 'Giri': 2780}\n"
     ]
    }
   ],
   "source": [
    "players_copy = players.copy()\n",
    "print(type(players_copy))\n",
    "print(players_copy)"
   ]
  },
  {
   "cell_type": "code",
   "execution_count": 21,
   "metadata": {},
   "outputs": [
    {
     "name": "stdout",
     "output_type": "stream",
     "text": [
      "Carlsen 2442\n",
      "Garuana 2822\n",
      "Mamedyarov 2801\n",
      "Karjakin None\n",
      "<class 'dict_items'>\n"
     ]
    }
   ],
   "source": [
    "for k, v in players.items():\n",
    "    print(k, v)\n",
    "print(type(players.items()))"
   ]
  },
  {
   "cell_type": "code",
   "execution_count": 15,
   "metadata": {},
   "outputs": [
    {
     "name": "stdout",
     "output_type": "stream",
     "text": [
      "{'Carlsen': 2442, 'Garuana': 2822, 'Mamedyarov': 2801, 'Ding': 2797}\n"
     ]
    }
   ],
   "source": [
    "players.pop('Giri') #удалить по ключу\n",
    "print(players)\n"
   ]
  },
  {
   "cell_type": "code",
   "execution_count": 16,
   "metadata": {},
   "outputs": [
    {
     "name": "stdout",
     "output_type": "stream",
     "text": [
      "('Ding', 2797)\n",
      "{'Carlsen': 2442, 'Garuana': 2822, 'Mamedyarov': 2801}\n"
     ]
    }
   ],
   "source": [
    "#удалить с элемент с конца\n",
    "print(players.popitem())\n",
    "print(players)\n"
   ]
  },
  {
   "cell_type": "code",
   "execution_count": 17,
   "metadata": {},
   "outputs": [
    {
     "data": {
      "text/plain": [
       "3"
      ]
     },
     "execution_count": 17,
     "metadata": {},
     "output_type": "execute_result"
    }
   ],
   "source": [
    "len(players) # количество пар"
   ]
  },
  {
   "cell_type": "code",
   "execution_count": 18,
   "metadata": {},
   "outputs": [
    {
     "name": "stdout",
     "output_type": "stream",
     "text": [
      "{'Carlsen': 2442, 'Garuana': 2822, 'Mamedyarov': 2801, 'Karjakin': None}\n"
     ]
    }
   ],
   "source": [
    "#setdefault - добавляет ключ и если нет значения то ставит None\n",
    "players.setdefault('Karjakin')\n",
    "print(players)"
   ]
  },
  {
   "cell_type": "code",
   "execution_count": null,
   "metadata": {},
   "outputs": [],
   "source": []
  }
 ],
 "metadata": {
  "kernelspec": {
   "display_name": "Python 3",
   "language": "python",
   "name": "python3"
  },
  "language_info": {
   "codemirror_mode": {
    "name": "ipython",
    "version": 3
   },
   "file_extension": ".py",
   "mimetype": "text/x-python",
   "name": "python",
   "nbconvert_exporter": "python",
   "pygments_lexer": "ipython3",
   "version": "3.7.3"
  }
 },
 "nbformat": 4,
 "nbformat_minor": 2
}
