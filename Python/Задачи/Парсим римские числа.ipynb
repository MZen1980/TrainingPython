{
 "cells": [
  {
   "cell_type": "code",
   "execution_count": 3,
   "metadata": {},
   "outputs": [],
   "source": [
    "romans = dict(I=1, V=5, X=10, L=50, C=100, D=500, M=1000)\n",
    "\n",
    "def parse_roman(roman):\n",
    "    result = 0\n",
    "    for i, c in enumerate(roman):\n",
    "        if i+1<len(roman) and romans[roman[i]] < romans[roman[i+1]]:\n",
    "            result-=romans[roman[i]]\n",
    "        else:\n",
    "            result+=romans[roman[i]]\n",
    "    return result"
   ]
  },
  {
   "cell_type": "code",
   "execution_count": 4,
   "metadata": {},
   "outputs": [
    {
     "name": "stdout",
     "output_type": "stream",
     "text": [
      "True\n",
      "True\n",
      "True\n",
      "True\n",
      "True\n",
      "True\n",
      "True\n",
      "True\n",
      "True\n",
      "True\n",
      "True\n"
     ]
    }
   ],
   "source": [
    "print(parse_roman('I')==1)\n",
    "print(parse_roman('II')==2)\n",
    "print(parse_roman('III')==3)\n",
    "print(parse_roman('IV')==4)\n",
    "print(parse_roman('V')==5)\n",
    "print(parse_roman('VI')==6)\n",
    "print(parse_roman('IX')==9)\n",
    "print(parse_roman('XI')==11)\n",
    "print(parse_roman('XIV')==14)\n",
    "print(parse_roman('XXVI')==26)\n",
    "print(parse_roman('M')==1000)"
   ]
  },
  {
   "cell_type": "code",
   "execution_count": null,
   "metadata": {},
   "outputs": [],
   "source": []
  }
 ],
 "metadata": {
  "kernelspec": {
   "display_name": "Python 3",
   "language": "python",
   "name": "python3"
  },
  "language_info": {
   "codemirror_mode": {
    "name": "ipython",
    "version": 3
   },
   "file_extension": ".py",
   "mimetype": "text/x-python",
   "name": "python",
   "nbconvert_exporter": "python",
   "pygments_lexer": "ipython3",
   "version": "3.7.3"
  }
 },
 "nbformat": 4,
 "nbformat_minor": 2
}
