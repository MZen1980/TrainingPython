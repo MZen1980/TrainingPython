{
 "cells": [
  {
   "cell_type": "code",
   "execution_count": 30,
   "metadata": {},
   "outputs": [],
   "source": [
    "class Shape():   # Создадим клас\n",
    "    \n",
    "    def __init__(self):\n",
    "        print('Shape created')\n",
    "        \n",
    "#     def draw(self):\n",
    "#         print('Drawing a shape')\n",
    "        \n",
    "#     def area(self):\n",
    "#         print('Calc area')\n",
    "        \n",
    "#     def perimeter(self):\n",
    "#         print(\"Calc perimeter\")\n",
    "\n",
    "# запретим использование функций\n",
    "    def draw(self):\n",
    "        raise NotImplementedError(\"Can't instantiate an abstract class\")\n",
    "        \n",
    "    def area(self):\n",
    "        raise NotImplementedError(\"Can't instantiate an abstract class\")\n",
    "        \n",
    "    def perimeter(self):\n",
    "        raise NotImplementedError(\"Can't instantiate an abstract class\")"
   ]
  },
  {
   "cell_type": "code",
   "execution_count": 31,
   "metadata": {},
   "outputs": [
    {
     "name": "stdout",
     "output_type": "stream",
     "text": [
      "Shape created\n"
     ]
    },
    {
     "ename": "NotImplementedError",
     "evalue": "Can't instantiate an abstract class",
     "output_type": "error",
     "traceback": [
      "\u001b[1;31m---------------------------------------------------------------------------\u001b[0m",
      "\u001b[1;31mNotImplementedError\u001b[0m                       Traceback (most recent call last)",
      "\u001b[1;32m<ipython-input-31-b3664f0f618b>\u001b[0m in \u001b[0;36m<module>\u001b[1;34m\u001b[0m\n\u001b[0;32m      1\u001b[0m \u001b[0mshape\u001b[0m \u001b[1;33m=\u001b[0m \u001b[0mShape\u001b[0m\u001b[1;33m(\u001b[0m\u001b[1;33m)\u001b[0m\u001b[1;33m\u001b[0m\u001b[1;33m\u001b[0m\u001b[0m\n\u001b[1;32m----> 2\u001b[1;33m \u001b[0mprint\u001b[0m\u001b[1;33m(\u001b[0m\u001b[0mshape\u001b[0m\u001b[1;33m.\u001b[0m\u001b[0mdraw\u001b[0m\u001b[1;33m(\u001b[0m\u001b[1;33m)\u001b[0m\u001b[1;33m)\u001b[0m\u001b[1;33m\u001b[0m\u001b[1;33m\u001b[0m\u001b[0m\n\u001b[0m",
      "\u001b[1;32m<ipython-input-30-391e1c48782c>\u001b[0m in \u001b[0;36mdraw\u001b[1;34m(self)\u001b[0m\n\u001b[0;32m     14\u001b[0m \u001b[1;33m\u001b[0m\u001b[0m\n\u001b[0;32m     15\u001b[0m     \u001b[1;32mdef\u001b[0m \u001b[0mdraw\u001b[0m\u001b[1;33m(\u001b[0m\u001b[0mself\u001b[0m\u001b[1;33m)\u001b[0m\u001b[1;33m:\u001b[0m\u001b[1;33m\u001b[0m\u001b[1;33m\u001b[0m\u001b[0m\n\u001b[1;32m---> 16\u001b[1;33m         \u001b[1;32mraise\u001b[0m \u001b[0mNotImplementedError\u001b[0m\u001b[1;33m(\u001b[0m\u001b[1;34m\"Can't instantiate an abstract class\"\u001b[0m\u001b[1;33m)\u001b[0m\u001b[1;33m\u001b[0m\u001b[1;33m\u001b[0m\u001b[0m\n\u001b[0m\u001b[0;32m     17\u001b[0m \u001b[1;33m\u001b[0m\u001b[0m\n\u001b[0;32m     18\u001b[0m     \u001b[1;32mdef\u001b[0m \u001b[0marea\u001b[0m\u001b[1;33m(\u001b[0m\u001b[0mself\u001b[0m\u001b[1;33m)\u001b[0m\u001b[1;33m:\u001b[0m\u001b[1;33m\u001b[0m\u001b[1;33m\u001b[0m\u001b[0m\n",
      "\u001b[1;31mNotImplementedError\u001b[0m: Can't instantiate an abstract class"
     ]
    }
   ],
   "source": [
    "shape = Shape()\n",
    "print(shape.draw()) # при попытке будет ругаться"
   ]
  },
  {
   "cell_type": "code",
   "execution_count": 13,
   "metadata": {},
   "outputs": [],
   "source": [
    "class Rectangle(Shape): # унаследуем класс Shape с его функциями(draw, area, perimeter)\n",
    "    \n",
    "    def __init__(self, width, height):\n",
    "        Shape.__init__(self)\n",
    "        \n",
    "        self.width = width\n",
    "        self.height = height\n",
    "        \n",
    "        print('Rectangle created')\n",
    "        \n",
    "        Shape.area(self) # так же можно использовать функции наследуемого класа\n",
    "        \n",
    "    def area(self):\n",
    "        return self.width * self.height\n",
    "    \n",
    "    def perimeter(self):\n",
    "        return 2*(self.width + self.height)\n",
    "    \n",
    "    def draw(self):\n",
    "        print(f'Drawing rectangle with width = {self.width} and height = {self.height}')"
   ]
  },
  {
   "cell_type": "code",
   "execution_count": 15,
   "metadata": {},
   "outputs": [
    {
     "name": "stdout",
     "output_type": "stream",
     "text": [
      "Shape created\n",
      "Rectangle created\n",
      "Calc area\n"
     ]
    }
   ],
   "source": [
    "# присвоим переменной класс Rectangle и передадим в него параметры\n",
    "\n",
    "rect = Rectangle(10, 15)\n",
    "# сначало проход будет по классу Shape потом уже по класу Rectangle"
   ]
  },
  {
   "cell_type": "code",
   "execution_count": 17,
   "metadata": {},
   "outputs": [
    {
     "name": "stdout",
     "output_type": "stream",
     "text": [
      "150\n",
      "50\n",
      "Drawing rectangle with width = 10 and height = 15\n",
      "None\n"
     ]
    }
   ],
   "source": [
    "print(rect.area())\n",
    "print(rect.perimeter())\n",
    "print(rect.draw())"
   ]
  },
  {
   "cell_type": "code",
   "execution_count": 21,
   "metadata": {},
   "outputs": [],
   "source": [
    "import math\n",
    "class Triangle(Shape): # еще одно наследование класа - высчитываем треугольник\n",
    "    \n",
    "    def __init__(self, a, b, c):\n",
    "        Shape.__init__(self)\n",
    "        \n",
    "        self.a = a\n",
    "        self.b = b\n",
    "        self.c = c\n",
    "        \n",
    "        print('Triangle created')\n",
    "        \n",
    "    def draw(self):\n",
    "        print(f'Drawing triangle with sides = {self.a}, {self.b}, {self.c}')\n",
    "        \n",
    "    def area(self):\n",
    "        s = (self.a + self.b + self.c)/2\n",
    "        return math.sqrt(s*(s-self.a) * (s-self.b) * (s-self.c))\n",
    "    \n",
    "    def perimeter(self):\n",
    "        return self.a + self.b + self.c"
   ]
  },
  {
   "cell_type": "code",
   "execution_count": 22,
   "metadata": {},
   "outputs": [
    {
     "name": "stdout",
     "output_type": "stream",
     "text": [
      "Shape created\n",
      "Triangle created\n"
     ]
    }
   ],
   "source": [
    "triangle = Triangle(10,10,10)"
   ]
  },
  {
   "cell_type": "code",
   "execution_count": 23,
   "metadata": {},
   "outputs": [
    {
     "name": "stdout",
     "output_type": "stream",
     "text": [
      "Drawing triangle with sides = 10, 10, 10\n",
      "43.30127018922193\n",
      "30\n"
     ]
    }
   ],
   "source": [
    "triangle.draw()\n",
    "print(triangle.area())\n",
    "print(triangle.perimeter())"
   ]
  },
  {
   "cell_type": "code",
   "execution_count": 32,
   "metadata": {},
   "outputs": [
    {
     "name": "stdout",
     "output_type": "stream",
     "text": [
      "Drawing rectangle with width = 10 and height = 15\n",
      "Drawing triangle with sides = 10, 10, 10\n"
     ]
    }
   ],
   "source": [
    "# Полиморфизм\n",
    "for shape in [rect, triangle]:\n",
    "    shape.draw()"
   ]
  },
  {
   "cell_type": "code",
   "execution_count": null,
   "metadata": {},
   "outputs": [],
   "source": []
  }
 ],
 "metadata": {
  "kernelspec": {
   "display_name": "Python 3",
   "language": "python",
   "name": "python3"
  },
  "language_info": {
   "codemirror_mode": {
    "name": "ipython",
    "version": 3
   },
   "file_extension": ".py",
   "mimetype": "text/x-python",
   "name": "python",
   "nbconvert_exporter": "python",
   "pygments_lexer": "ipython3",
   "version": "3.7.3"
  }
 },
 "nbformat": 4,
 "nbformat_minor": 2
}
