{
 "cells": [
  {
   "cell_type": "code",
   "execution_count": 3,
   "metadata": {},
   "outputs": [],
   "source": [
    "class Animal:\n",
    "    \n",
    "    def die(self):\n",
    "        print('bye-bye')\n",
    "        self.health = 0\n",
    "        \n",
    "class Carnivour:\n",
    "    \n",
    "    def hunt(self):\n",
    "        print('eating')\n",
    "        self.satiety = 100\n",
    "        \n",
    "class Dog(Animal, Carnivour):\n",
    "   \n",
    "    def bark(self):\n",
    "        print('woof-woof')\n",
    "        "
   ]
  },
  {
   "cell_type": "code",
   "execution_count": 4,
   "metadata": {},
   "outputs": [
    {
     "name": "stdout",
     "output_type": "stream",
     "text": [
      "woof-woof\n",
      "eating\n",
      "bye-bye\n"
     ]
    }
   ],
   "source": [
    "dog = Dog()\n",
    "dog.bark()\n",
    "dog.hunt()\n",
    "dog.die()"
   ]
  },
  {
   "cell_type": "code",
   "execution_count": 5,
   "metadata": {},
   "outputs": [],
   "source": [
    "class Animal:\n",
    "    \n",
    "    def set_health(self, health):\n",
    "        print('set in animal')\n",
    "                \n",
    "class Carnivour(Animal):\n",
    "    \n",
    "    def set_health(self, health):\n",
    "        print('set in carnivour')\n",
    "        \n",
    "class Mammal(Animal):\n",
    "    \n",
    "    def set_health(self, health):\n",
    "        print('set in mammal')\n",
    "        \n",
    "class Dog(Mammal, Carnivour):\n",
    "    pass"
   ]
  },
  {
   "cell_type": "code",
   "execution_count": 6,
   "metadata": {},
   "outputs": [
    {
     "name": "stdout",
     "output_type": "stream",
     "text": [
      "set in mammal\n"
     ]
    }
   ],
   "source": [
    "dog = Dog()\n",
    "dog.set_health(100)\n",
    "# так в class Dog(Mammal, Carnivour): - Mammal стоит первым то и выведет его первым"
   ]
  },
  {
   "cell_type": "code",
   "execution_count": 7,
   "metadata": {},
   "outputs": [],
   "source": [
    "class Animal:\n",
    "    \n",
    "    def set_health(self, health):\n",
    "        print('set in animal')\n",
    "                \n",
    "class Carnivour(Animal):\n",
    "    \n",
    "    def set_health(self, health):\n",
    "        print('set in carnivour')\n",
    "        \n",
    "class Mammal(Animal):\n",
    "    \n",
    "    def set_health(self, health):\n",
    "        print('set in mammal')\n",
    "        \n",
    "class Dog(Mammal, Carnivour):\n",
    "    def set_health(self, health):\n",
    "        Mammal.set_health(self, health)\n",
    "        Carnivour.set_health(self, health)\n",
    "        Animal.set_health(self, health)\n",
    "        \n",
    "        print('set in dog')"
   ]
  },
  {
   "cell_type": "code",
   "execution_count": 8,
   "metadata": {},
   "outputs": [
    {
     "name": "stdout",
     "output_type": "stream",
     "text": [
      "set in mammal\n",
      "set in carnivour\n",
      "set in animal\n",
      "set in dog\n"
     ]
    }
   ],
   "source": [
    "dog = Dog()\n",
    "dog.set_health(20)"
   ]
  },
  {
   "cell_type": "code",
   "execution_count": 11,
   "metadata": {},
   "outputs": [],
   "source": [
    "class Animal:\n",
    "    \n",
    "    def set_health(self, health):\n",
    "        print('set in animal')\n",
    "                \n",
    "class Carnivour(Animal):\n",
    "    \n",
    "    def set_health(self, health):\n",
    "        Animal.set_health(self, health)\n",
    "        print('set in carnivour')\n",
    "        \n",
    "class Mammal(Animal):\n",
    "    \n",
    "    def set_health(self, health):\n",
    "        Animal.set_health(self, health)\n",
    "        print('set in mammal')\n",
    "        \n",
    "class Dog(Mammal, Carnivour):\n",
    "    def set_health(self, health):\n",
    "        Mammal.set_health(self, health)\n",
    "        Carnivour.set_health(self, health)\n",
    "               \n",
    "        print('set in dog')"
   ]
  },
  {
   "cell_type": "code",
   "execution_count": 12,
   "metadata": {},
   "outputs": [
    {
     "name": "stdout",
     "output_type": "stream",
     "text": [
      "set in animal\n",
      "set in mammal\n",
      "set in animal\n",
      "set in carnivour\n",
      "set in dog\n"
     ]
    }
   ],
   "source": [
    "dog = Dog()\n",
    "dog.set_health(20)"
   ]
  },
  {
   "cell_type": "code",
   "execution_count": 13,
   "metadata": {},
   "outputs": [],
   "source": [
    "class Animal:\n",
    "    \n",
    "    def set_health(self, health):\n",
    "        print('set in animal')\n",
    "                \n",
    "class Carnivour(Animal):\n",
    "    \n",
    "    def set_health(self, health):\n",
    "        super().set_health(health) # делает обращение к функциям владельца\n",
    "        print('set in carnivour')\n",
    "        \n",
    "class Mammal(Animal):\n",
    "    \n",
    "    def set_health(self, health):\n",
    "        super().set_health(health) # делает обращение к функциям владельца\n",
    "        print('set in mammal')\n",
    "        \n",
    "class Dog(Mammal, Carnivour):\n",
    "    def set_health(self, health):\n",
    "        super().set_health(health) # делает обращение к функциям владельца\n",
    "        \n",
    "#         Mammal.set_health(self, health)\n",
    "#         Carnivour.set_health(self, health)\n",
    "               \n",
    "        print('set in dog')"
   ]
  },
  {
   "cell_type": "code",
   "execution_count": 14,
   "metadata": {},
   "outputs": [
    {
     "name": "stdout",
     "output_type": "stream",
     "text": [
      "set in animal\n",
      "set in carnivour\n",
      "set in mammal\n",
      "set in dog\n"
     ]
    }
   ],
   "source": [
    "dog = Dog()\n",
    "dog.set_health(20)"
   ]
  },
  {
   "cell_type": "code",
   "execution_count": 16,
   "metadata": {},
   "outputs": [],
   "source": [
    "# еще пример использования обращения к функциям владельца\n",
    "\n",
    "class Animal:\n",
    "    def __init__(self):\n",
    "        self.health = 100\n",
    "        \n",
    "    def hit(self, damage):\n",
    "        self.health -= damage\n",
    "        \n",
    "class Carnivour(Animal):\n",
    "    def __init__(self):\n",
    "        super().__init__() # делает обращение к функциям владельца\n",
    "        self.legs = 4"
   ]
  },
  {
   "cell_type": "code",
   "execution_count": 21,
   "metadata": {},
   "outputs": [
    {
     "name": "stdout",
     "output_type": "stream",
     "text": [
      "70\n"
     ]
    }
   ],
   "source": [
    "c = Carnivour()\n",
    "c.hit(30)\n",
    "\n",
    "print(c.health)"
   ]
  },
  {
   "cell_type": "code",
   "execution_count": null,
   "metadata": {},
   "outputs": [],
   "source": []
  }
 ],
 "metadata": {
  "kernelspec": {
   "display_name": "Python 3",
   "language": "python",
   "name": "python3"
  },
  "language_info": {
   "codemirror_mode": {
    "name": "ipython",
    "version": 3
   },
   "file_extension": ".py",
   "mimetype": "text/x-python",
   "name": "python",
   "nbconvert_exporter": "python",
   "pygments_lexer": "ipython3",
   "version": "3.7.3"
  }
 },
 "nbformat": 4,
 "nbformat_minor": 2
}
