{
 "cells": [
  {
   "cell_type": "code",
   "execution_count": 11,
   "metadata": {},
   "outputs": [],
   "source": [
    "class StaticTest:\n",
    "    x = 1 # укажем атрибут внутри класса    "
   ]
  },
  {
   "cell_type": "code",
   "execution_count": 12,
   "metadata": {},
   "outputs": [],
   "source": [
    "t1 = StaticTest() "
   ]
  },
  {
   "cell_type": "code",
   "execution_count": 13,
   "metadata": {},
   "outputs": [
    {
     "name": "stdout",
     "output_type": "stream",
     "text": [
      "Via instance:1\n",
      "Via class:1\n"
     ]
    }
   ],
   "source": [
    "print(f'Via instance:{t1.x}')\n",
    "print(f'Via class:{StaticTest.x}')"
   ]
  },
  {
   "cell_type": "code",
   "execution_count": 14,
   "metadata": {},
   "outputs": [],
   "source": [
    "t1.x = 2 "
   ]
  },
  {
   "cell_type": "code",
   "execution_count": 15,
   "metadata": {},
   "outputs": [
    {
     "name": "stdout",
     "output_type": "stream",
     "text": [
      "Via instance:2\n",
      "Via class:1\n"
     ]
    }
   ],
   "source": [
    "print(f'Via instance:{t1.x}')\n",
    "print(f'Via class:{StaticTest.x}')"
   ]
  },
  {
   "cell_type": "code",
   "execution_count": 16,
   "metadata": {},
   "outputs": [],
   "source": [
    "StaticTest.x = 3"
   ]
  },
  {
   "cell_type": "code",
   "execution_count": 17,
   "metadata": {},
   "outputs": [
    {
     "name": "stdout",
     "output_type": "stream",
     "text": [
      "Via instance:2\n",
      "Via class:3\n"
     ]
    }
   ],
   "source": [
    "print(f'Via instance:{t1.x}')       # как видно из примеров t1 и StaticTest два разных параметра со своими значениями\n",
    "print(f'Via class:{StaticTest.x}')"
   ]
  },
  {
   "cell_type": "code",
   "execution_count": 19,
   "metadata": {},
   "outputs": [],
   "source": [
    "class Date:\n",
    "    \n",
    "    def __init__(self, month, day, year):\n",
    "        self.month = month\n",
    "        self.day = day\n",
    "        self.year = year\n",
    "        \n",
    "    def display(self):\n",
    "        return f\"{self.month} - {self.day} - {self.year}\"\n",
    "    \n",
    "    @classmethod\n",
    "    def millenium_c(cls, month, day): # будет возвращатся cls(month, day, 2000)\n",
    "        return cls(month, day, 2000)\n",
    "    \n",
    "    @staticmethod\n",
    "    def millenium_s(month, day):    # будет обращаться к Date и обрабатываться через display - Date(month, day, 2000)\n",
    "        return Date(month, day, 2000)\n",
    "        "
   ]
  },
  {
   "cell_type": "code",
   "execution_count": 20,
   "metadata": {},
   "outputs": [
    {
     "name": "stdout",
     "output_type": "stream",
     "text": [
      "6 - 9 - 2000\n",
      "6 - 9 - 2000\n"
     ]
    }
   ],
   "source": [
    "d1 = Date.millenium_c(6,9)\n",
    "d2 = Date.millenium_s(6,9)\n",
    "\n",
    "print(d1.display())\n",
    "print(d2.display())"
   ]
  },
  {
   "cell_type": "code",
   "execution_count": 21,
   "metadata": {},
   "outputs": [],
   "source": [
    "class DateTime(Date):\n",
    "    def display(self):\n",
    "        return f\"{self.month} - {self.day} - {self.year} - 00:00:00PM\" "
   ]
  },
  {
   "cell_type": "code",
   "execution_count": 25,
   "metadata": {},
   "outputs": [
    {
     "name": "stdout",
     "output_type": "stream",
     "text": [
      "True\n",
      "False\n",
      "True\n",
      "10 - 9 - 1990 - 00:00:00PM\n",
      "10 - 10 - 2000\n",
      "10 - 11 - 2000 - 00:00:00PM\n"
     ]
    }
   ],
   "source": [
    "dt1 = DateTime(10, 9, 1990)\n",
    "dt2 = DateTime.millenium_s(10, 10) # DateTime.millenium_s - не принадлежит к DateTime\n",
    "dt3 = DateTime.millenium_c(10, 11) # DateTime.millenium_s - принадлежит к DateTime\n",
    "\n",
    "# isinstance - определяет принадлежность к первой переменной, пример:  isinstance('stroka', str) - True\n",
    "print(isinstance(dt1, DateTime))\n",
    "print(isinstance(dt2, DateTime))\n",
    "print(isinstance(dt3, DateTime))\n",
    "\n",
    "print(dt1.display())\n",
    "print(dt2.display())\n",
    "print(dt3.display())"
   ]
  },
  {
   "cell_type": "code",
   "execution_count": 30,
   "metadata": {},
   "outputs": [
    {
     "name": "stdout",
     "output_type": "stream",
     "text": [
      "True\n",
      "False\n",
      "True\n"
     ]
    }
   ],
   "source": [
    "print(isinstance('stroka', str)) # isinstance - определяет принадлежность к первой переменной\n",
    "print(isinstance(9, float))  \n",
    "print(isinstance(9, int)) "
   ]
  },
  {
   "cell_type": "code",
   "execution_count": 31,
   "metadata": {},
   "outputs": [],
   "source": [
    "class StrConverter:\n",
    "    \n",
    "    @staticmethod\n",
    "    def to_str(bytes_or_str):\n",
    "        if isinstance(bytes_or_str, bytes):\n",
    "            value = bytes_or_str.decode('utf-8')\n",
    "        else:\n",
    "            value = bytes_or_str\n",
    "        return value\n",
    "    \n",
    "    @staticmethod\n",
    "    def to_butes(bytes_or_str):\n",
    "        if isinstance(bytes_or_str, str):\n",
    "            value = bytes_or_str.encode('utf-8')\n",
    "        else:\n",
    "            value = bytes_or_str\n",
    "        return value"
   ]
  },
  {
   "cell_type": "code",
   "execution_count": 33,
   "metadata": {},
   "outputs": [
    {
     "name": "stdout",
     "output_type": "stream",
     "text": [
      "A\n",
      "A\n"
     ]
    }
   ],
   "source": [
    "print(StrConverter.to_str('\\x41'))\n",
    "print(StrConverter.to_str('A'))"
   ]
  },
  {
   "cell_type": "code",
   "execution_count": 34,
   "metadata": {},
   "outputs": [
    {
     "name": "stdout",
     "output_type": "stream",
     "text": [
      "b'A'\n",
      "b'A'\n"
     ]
    }
   ],
   "source": [
    "print(StrConverter.to_butes('\\x41'))\n",
    "print(StrConverter.to_butes('A'))"
   ]
  },
  {
   "cell_type": "code",
   "execution_count": null,
   "metadata": {},
   "outputs": [],
   "source": []
  }
 ],
 "metadata": {
  "kernelspec": {
   "display_name": "Python 3",
   "language": "python",
   "name": "python3"
  },
  "language_info": {
   "codemirror_mode": {
    "name": "ipython",
    "version": 3
   },
   "file_extension": ".py",
   "mimetype": "text/x-python",
   "name": "python",
   "nbconvert_exporter": "python",
   "pygments_lexer": "ipython3",
   "version": "3.7.3"
  }
 },
 "nbformat": 4,
 "nbformat_minor": 2
}
