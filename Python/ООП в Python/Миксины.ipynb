{
 "cells": [
  {
   "cell_type": "code",
   "execution_count": 1,
   "metadata": {},
   "outputs": [],
   "source": [
    "class Vehicle:\n",
    "    \n",
    "    def __init__(self, position):\n",
    "        self.position = position\n",
    "        \n",
    "    def travel(self, destination):\n",
    "        route = calculate_route(source = self.position, to = destination)\n",
    "        self.move_along(route)\n",
    "        \n",
    "    def calculate_route(self, source, to):\n",
    "        return 0\n",
    "    \n",
    "    def move_along(self, route):\n",
    "        print(\"moving\")\n",
    "        \n",
    "class Car(Vehicle):\n",
    "    pass\n",
    "\n",
    "class Airplane(Vehicle):\n",
    "    pass"
   ]
  },
  {
   "cell_type": "code",
   "execution_count": 2,
   "metadata": {},
   "outputs": [],
   "source": [
    "class RadioMixin:\n",
    "    \n",
    "    def __init__(self):\n",
    "        self.radio = Radio()\n",
    "        \n",
    "    def turn_on(self, station):\n",
    "        self.radio.set_station(station)\n",
    "        self.radio.play()\n",
    "        \n",
    "class Radio:\n",
    "    def set_station(self, station):\n",
    "        self.station = station\n",
    "        \n",
    "    def play(self):\n",
    "        print(f'Playing {self.station}')\n",
    "        \n",
    "class Car(Vehicle, RadioMixin):\n",
    "    \n",
    "    def __init__(self):\n",
    "        Vehicle.__init__(self, (10, 20))\n",
    "        RadioMixin.__init__(self)"
   ]
  },
  {
   "cell_type": "code",
   "execution_count": 3,
   "metadata": {},
   "outputs": [
    {
     "name": "stdout",
     "output_type": "stream",
     "text": [
      "Playing Moskow FM\n"
     ]
    }
   ],
   "source": [
    "car = Car()\n",
    "car.turn_on('Moskow FM')"
   ]
  },
  {
   "cell_type": "code",
   "execution_count": null,
   "metadata": {},
   "outputs": [],
   "source": []
  }
 ],
 "metadata": {
  "kernelspec": {
   "display_name": "Python 3",
   "language": "python",
   "name": "python3"
  },
  "language_info": {
   "codemirror_mode": {
    "name": "ipython",
    "version": 3
   },
   "file_extension": ".py",
   "mimetype": "text/x-python",
   "name": "python",
   "nbconvert_exporter": "python",
   "pygments_lexer": "ipython3",
   "version": "3.7.3"
  }
 },
 "nbformat": 4,
 "nbformat_minor": 2
}
